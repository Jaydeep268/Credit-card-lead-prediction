{
 "cells": [
  {
   "cell_type": "code",
   "execution_count": 1,
   "metadata": {},
   "outputs": [],
   "source": [
    "import numpy as np\n",
    "import pandas as pd\n",
    "import matplotlib.pyplot as plt\n",
    "import seaborn as sns\n",
    "#from imblearn.over_sampling import RandomOverSampler\n",
    "\n",
    "sns.set(style='whitegrid')\n",
    "import warnings\n",
    "warnings.filterwarnings('always')\n",
    "warnings.filterwarnings('ignore')"
   ]
  },
  {
   "cell_type": "code",
   "execution_count": 2,
   "metadata": {},
   "outputs": [],
   "source": [
    "train = pd.read_csv(\"train_s3TEQDk.csv\")\n",
    "test = pd.read_csv(\"test_mSzZ8RL.csv\")"
   ]
  },
  {
   "cell_type": "code",
   "execution_count": 3,
   "metadata": {},
   "outputs": [
    {
     "data": {
      "text/plain": [
       "((245725, 11), (105312, 10))"
      ]
     },
     "execution_count": 3,
     "metadata": {},
     "output_type": "execute_result"
    }
   ],
   "source": [
    "train.shape,test.shape"
   ]
  },
  {
   "cell_type": "code",
   "execution_count": 4,
   "metadata": {},
   "outputs": [
    {
     "data": {
      "text/html": [
       "<div>\n",
       "<style scoped>\n",
       "    .dataframe tbody tr th:only-of-type {\n",
       "        vertical-align: middle;\n",
       "    }\n",
       "\n",
       "    .dataframe tbody tr th {\n",
       "        vertical-align: top;\n",
       "    }\n",
       "\n",
       "    .dataframe thead th {\n",
       "        text-align: right;\n",
       "    }\n",
       "</style>\n",
       "<table border=\"1\" class=\"dataframe\">\n",
       "  <thead>\n",
       "    <tr style=\"text-align: right;\">\n",
       "      <th></th>\n",
       "      <th>ID</th>\n",
       "      <th>Gender</th>\n",
       "      <th>Age</th>\n",
       "      <th>Region_Code</th>\n",
       "      <th>Occupation</th>\n",
       "      <th>Channel_Code</th>\n",
       "      <th>Vintage</th>\n",
       "      <th>Credit_Product</th>\n",
       "      <th>Avg_Account_Balance</th>\n",
       "      <th>Is_Active</th>\n",
       "      <th>Is_Lead</th>\n",
       "    </tr>\n",
       "  </thead>\n",
       "  <tbody>\n",
       "    <tr>\n",
       "      <th>0</th>\n",
       "      <td>NNVBBKZB</td>\n",
       "      <td>Female</td>\n",
       "      <td>73</td>\n",
       "      <td>RG268</td>\n",
       "      <td>Other</td>\n",
       "      <td>X3</td>\n",
       "      <td>43</td>\n",
       "      <td>No</td>\n",
       "      <td>1045696</td>\n",
       "      <td>No</td>\n",
       "      <td>0</td>\n",
       "    </tr>\n",
       "    <tr>\n",
       "      <th>1</th>\n",
       "      <td>IDD62UNG</td>\n",
       "      <td>Female</td>\n",
       "      <td>30</td>\n",
       "      <td>RG277</td>\n",
       "      <td>Salaried</td>\n",
       "      <td>X1</td>\n",
       "      <td>32</td>\n",
       "      <td>No</td>\n",
       "      <td>581988</td>\n",
       "      <td>No</td>\n",
       "      <td>0</td>\n",
       "    </tr>\n",
       "    <tr>\n",
       "      <th>2</th>\n",
       "      <td>HD3DSEMC</td>\n",
       "      <td>Female</td>\n",
       "      <td>56</td>\n",
       "      <td>RG268</td>\n",
       "      <td>Self_Employed</td>\n",
       "      <td>X3</td>\n",
       "      <td>26</td>\n",
       "      <td>No</td>\n",
       "      <td>1484315</td>\n",
       "      <td>Yes</td>\n",
       "      <td>0</td>\n",
       "    </tr>\n",
       "    <tr>\n",
       "      <th>3</th>\n",
       "      <td>BF3NC7KV</td>\n",
       "      <td>Male</td>\n",
       "      <td>34</td>\n",
       "      <td>RG270</td>\n",
       "      <td>Salaried</td>\n",
       "      <td>X1</td>\n",
       "      <td>19</td>\n",
       "      <td>No</td>\n",
       "      <td>470454</td>\n",
       "      <td>No</td>\n",
       "      <td>0</td>\n",
       "    </tr>\n",
       "    <tr>\n",
       "      <th>4</th>\n",
       "      <td>TEASRWXV</td>\n",
       "      <td>Female</td>\n",
       "      <td>30</td>\n",
       "      <td>RG282</td>\n",
       "      <td>Salaried</td>\n",
       "      <td>X1</td>\n",
       "      <td>33</td>\n",
       "      <td>No</td>\n",
       "      <td>886787</td>\n",
       "      <td>No</td>\n",
       "      <td>0</td>\n",
       "    </tr>\n",
       "  </tbody>\n",
       "</table>\n",
       "</div>"
      ],
      "text/plain": [
       "         ID  Gender  Age Region_Code     Occupation Channel_Code  Vintage  \\\n",
       "0  NNVBBKZB  Female   73       RG268          Other           X3       43   \n",
       "1  IDD62UNG  Female   30       RG277       Salaried           X1       32   \n",
       "2  HD3DSEMC  Female   56       RG268  Self_Employed           X3       26   \n",
       "3  BF3NC7KV    Male   34       RG270       Salaried           X1       19   \n",
       "4  TEASRWXV  Female   30       RG282       Salaried           X1       33   \n",
       "\n",
       "  Credit_Product  Avg_Account_Balance Is_Active  Is_Lead  \n",
       "0             No              1045696        No        0  \n",
       "1             No               581988        No        0  \n",
       "2             No              1484315       Yes        0  \n",
       "3             No               470454        No        0  \n",
       "4             No               886787        No        0  "
      ]
     },
     "execution_count": 4,
     "metadata": {},
     "output_type": "execute_result"
    }
   ],
   "source": [
    "train.head()"
   ]
  },
  {
   "cell_type": "code",
   "execution_count": 5,
   "metadata": {},
   "outputs": [
    {
     "data": {
      "text/html": [
       "<div>\n",
       "<style scoped>\n",
       "    .dataframe tbody tr th:only-of-type {\n",
       "        vertical-align: middle;\n",
       "    }\n",
       "\n",
       "    .dataframe tbody tr th {\n",
       "        vertical-align: top;\n",
       "    }\n",
       "\n",
       "    .dataframe thead th {\n",
       "        text-align: right;\n",
       "    }\n",
       "</style>\n",
       "<table border=\"1\" class=\"dataframe\">\n",
       "  <thead>\n",
       "    <tr style=\"text-align: right;\">\n",
       "      <th></th>\n",
       "      <th>ID</th>\n",
       "      <th>Gender</th>\n",
       "      <th>Age</th>\n",
       "      <th>Region_Code</th>\n",
       "      <th>Occupation</th>\n",
       "      <th>Channel_Code</th>\n",
       "      <th>Vintage</th>\n",
       "      <th>Credit_Product</th>\n",
       "      <th>Avg_Account_Balance</th>\n",
       "      <th>Is_Active</th>\n",
       "    </tr>\n",
       "  </thead>\n",
       "  <tbody>\n",
       "    <tr>\n",
       "      <th>0</th>\n",
       "      <td>VBENBARO</td>\n",
       "      <td>Male</td>\n",
       "      <td>29</td>\n",
       "      <td>RG254</td>\n",
       "      <td>Other</td>\n",
       "      <td>X1</td>\n",
       "      <td>25</td>\n",
       "      <td>Yes</td>\n",
       "      <td>742366</td>\n",
       "      <td>No</td>\n",
       "    </tr>\n",
       "    <tr>\n",
       "      <th>1</th>\n",
       "      <td>CCMEWNKY</td>\n",
       "      <td>Male</td>\n",
       "      <td>43</td>\n",
       "      <td>RG268</td>\n",
       "      <td>Other</td>\n",
       "      <td>X2</td>\n",
       "      <td>49</td>\n",
       "      <td>NaN</td>\n",
       "      <td>925537</td>\n",
       "      <td>No</td>\n",
       "    </tr>\n",
       "    <tr>\n",
       "      <th>2</th>\n",
       "      <td>VK3KGA9M</td>\n",
       "      <td>Male</td>\n",
       "      <td>31</td>\n",
       "      <td>RG270</td>\n",
       "      <td>Salaried</td>\n",
       "      <td>X1</td>\n",
       "      <td>14</td>\n",
       "      <td>No</td>\n",
       "      <td>215949</td>\n",
       "      <td>No</td>\n",
       "    </tr>\n",
       "    <tr>\n",
       "      <th>3</th>\n",
       "      <td>TT8RPZVC</td>\n",
       "      <td>Male</td>\n",
       "      <td>29</td>\n",
       "      <td>RG272</td>\n",
       "      <td>Other</td>\n",
       "      <td>X1</td>\n",
       "      <td>33</td>\n",
       "      <td>No</td>\n",
       "      <td>868070</td>\n",
       "      <td>No</td>\n",
       "    </tr>\n",
       "    <tr>\n",
       "      <th>4</th>\n",
       "      <td>SHQZEYTZ</td>\n",
       "      <td>Female</td>\n",
       "      <td>29</td>\n",
       "      <td>RG270</td>\n",
       "      <td>Other</td>\n",
       "      <td>X1</td>\n",
       "      <td>19</td>\n",
       "      <td>No</td>\n",
       "      <td>657087</td>\n",
       "      <td>No</td>\n",
       "    </tr>\n",
       "  </tbody>\n",
       "</table>\n",
       "</div>"
      ],
      "text/plain": [
       "         ID  Gender  Age Region_Code Occupation Channel_Code  Vintage  \\\n",
       "0  VBENBARO    Male   29       RG254      Other           X1       25   \n",
       "1  CCMEWNKY    Male   43       RG268      Other           X2       49   \n",
       "2  VK3KGA9M    Male   31       RG270   Salaried           X1       14   \n",
       "3  TT8RPZVC    Male   29       RG272      Other           X1       33   \n",
       "4  SHQZEYTZ  Female   29       RG270      Other           X1       19   \n",
       "\n",
       "  Credit_Product  Avg_Account_Balance Is_Active  \n",
       "0            Yes               742366        No  \n",
       "1            NaN               925537        No  \n",
       "2             No               215949        No  \n",
       "3             No               868070        No  \n",
       "4             No               657087        No  "
      ]
     },
     "execution_count": 5,
     "metadata": {},
     "output_type": "execute_result"
    }
   ],
   "source": [
    "test.head()"
   ]
  },
  {
   "cell_type": "code",
   "execution_count": 6,
   "metadata": {},
   "outputs": [
    {
     "data": {
      "text/plain": [
       "(ID                         0\n",
       " Gender                     0\n",
       " Age                        0\n",
       " Region_Code                0\n",
       " Occupation                 0\n",
       " Channel_Code               0\n",
       " Vintage                    0\n",
       " Credit_Product         29325\n",
       " Avg_Account_Balance        0\n",
       " Is_Active                  0\n",
       " Is_Lead                    0\n",
       " dtype: int64,\n",
       " ID                         0\n",
       " Gender                     0\n",
       " Age                        0\n",
       " Region_Code                0\n",
       " Occupation                 0\n",
       " Channel_Code               0\n",
       " Vintage                    0\n",
       " Credit_Product         12522\n",
       " Avg_Account_Balance        0\n",
       " Is_Active                  0\n",
       " dtype: int64)"
      ]
     },
     "execution_count": 6,
     "metadata": {},
     "output_type": "execute_result"
    }
   ],
   "source": [
    "train.isnull().sum(),test.isnull().sum()"
   ]
  },
  {
   "cell_type": "code",
   "execution_count": 7,
   "metadata": {},
   "outputs": [
    {
     "data": {
      "text/plain": [
       "ID                     245725\n",
       "Gender                      2\n",
       "Age                        63\n",
       "Region_Code                35\n",
       "Occupation                  4\n",
       "Channel_Code                4\n",
       "Vintage                    66\n",
       "Credit_Product              2\n",
       "Avg_Account_Balance    135292\n",
       "Is_Active                   2\n",
       "Is_Lead                     2\n",
       "dtype: int64"
      ]
     },
     "execution_count": 7,
     "metadata": {},
     "output_type": "execute_result"
    }
   ],
   "source": [
    "train.nunique()"
   ]
  },
  {
   "cell_type": "code",
   "execution_count": 8,
   "metadata": {},
   "outputs": [
    {
     "data": {
      "text/html": [
       "<div>\n",
       "<style scoped>\n",
       "    .dataframe tbody tr th:only-of-type {\n",
       "        vertical-align: middle;\n",
       "    }\n",
       "\n",
       "    .dataframe tbody tr th {\n",
       "        vertical-align: top;\n",
       "    }\n",
       "\n",
       "    .dataframe thead th {\n",
       "        text-align: right;\n",
       "    }\n",
       "</style>\n",
       "<table border=\"1\" class=\"dataframe\">\n",
       "  <thead>\n",
       "    <tr style=\"text-align: right;\">\n",
       "      <th></th>\n",
       "      <th>Age</th>\n",
       "      <th>Vintage</th>\n",
       "      <th>Avg_Account_Balance</th>\n",
       "      <th>Is_Lead</th>\n",
       "    </tr>\n",
       "  </thead>\n",
       "  <tbody>\n",
       "    <tr>\n",
       "      <th>count</th>\n",
       "      <td>245725.000000</td>\n",
       "      <td>245725.000000</td>\n",
       "      <td>2.457250e+05</td>\n",
       "      <td>245725.000000</td>\n",
       "    </tr>\n",
       "    <tr>\n",
       "      <th>mean</th>\n",
       "      <td>43.856307</td>\n",
       "      <td>46.959141</td>\n",
       "      <td>1.128403e+06</td>\n",
       "      <td>0.237208</td>\n",
       "    </tr>\n",
       "    <tr>\n",
       "      <th>std</th>\n",
       "      <td>14.828672</td>\n",
       "      <td>32.353136</td>\n",
       "      <td>8.529364e+05</td>\n",
       "      <td>0.425372</td>\n",
       "    </tr>\n",
       "    <tr>\n",
       "      <th>min</th>\n",
       "      <td>23.000000</td>\n",
       "      <td>7.000000</td>\n",
       "      <td>2.079000e+04</td>\n",
       "      <td>0.000000</td>\n",
       "    </tr>\n",
       "    <tr>\n",
       "      <th>25%</th>\n",
       "      <td>30.000000</td>\n",
       "      <td>20.000000</td>\n",
       "      <td>6.043100e+05</td>\n",
       "      <td>0.000000</td>\n",
       "    </tr>\n",
       "    <tr>\n",
       "      <th>50%</th>\n",
       "      <td>43.000000</td>\n",
       "      <td>32.000000</td>\n",
       "      <td>8.946010e+05</td>\n",
       "      <td>0.000000</td>\n",
       "    </tr>\n",
       "    <tr>\n",
       "      <th>75%</th>\n",
       "      <td>54.000000</td>\n",
       "      <td>73.000000</td>\n",
       "      <td>1.366666e+06</td>\n",
       "      <td>0.000000</td>\n",
       "    </tr>\n",
       "    <tr>\n",
       "      <th>max</th>\n",
       "      <td>85.000000</td>\n",
       "      <td>135.000000</td>\n",
       "      <td>1.035201e+07</td>\n",
       "      <td>1.000000</td>\n",
       "    </tr>\n",
       "  </tbody>\n",
       "</table>\n",
       "</div>"
      ],
      "text/plain": [
       "                 Age        Vintage  Avg_Account_Balance        Is_Lead\n",
       "count  245725.000000  245725.000000         2.457250e+05  245725.000000\n",
       "mean       43.856307      46.959141         1.128403e+06       0.237208\n",
       "std        14.828672      32.353136         8.529364e+05       0.425372\n",
       "min        23.000000       7.000000         2.079000e+04       0.000000\n",
       "25%        30.000000      20.000000         6.043100e+05       0.000000\n",
       "50%        43.000000      32.000000         8.946010e+05       0.000000\n",
       "75%        54.000000      73.000000         1.366666e+06       0.000000\n",
       "max        85.000000     135.000000         1.035201e+07       1.000000"
      ]
     },
     "execution_count": 8,
     "metadata": {},
     "output_type": "execute_result"
    }
   ],
   "source": [
    "train.describe()"
   ]
  },
  {
   "cell_type": "code",
   "execution_count": 9,
   "metadata": {},
   "outputs": [
    {
     "name": "stdout",
     "output_type": "stream",
     "text": [
      "<class 'pandas.core.frame.DataFrame'>\n",
      "RangeIndex: 245725 entries, 0 to 245724\n",
      "Data columns (total 11 columns):\n",
      "ID                     245725 non-null object\n",
      "Gender                 245725 non-null object\n",
      "Age                    245725 non-null int64\n",
      "Region_Code            245725 non-null object\n",
      "Occupation             245725 non-null object\n",
      "Channel_Code           245725 non-null object\n",
      "Vintage                245725 non-null int64\n",
      "Credit_Product         216400 non-null object\n",
      "Avg_Account_Balance    245725 non-null int64\n",
      "Is_Active              245725 non-null object\n",
      "Is_Lead                245725 non-null int64\n",
      "dtypes: int64(4), object(7)\n",
      "memory usage: 20.6+ MB\n"
     ]
    }
   ],
   "source": [
    "train.info()"
   ]
  },
  {
   "cell_type": "code",
   "execution_count": 10,
   "metadata": {},
   "outputs": [],
   "source": [
    "numerical_columns=['Age','Vintage']\n",
    "categorical_columns=['Region_Code','Occupation','Channel_Code','Credit_Product','Is_Active']"
   ]
  },
  {
   "cell_type": "code",
   "execution_count": 11,
   "metadata": {},
   "outputs": [
    {
     "data": {
      "text/plain": [
       "No     144357\n",
       "Yes     72043\n",
       "Name: Credit_Product, dtype: int64"
      ]
     },
     "execution_count": 11,
     "metadata": {},
     "output_type": "execute_result"
    }
   ],
   "source": [
    "train.Credit_Product.value_counts()"
   ]
  },
  {
   "cell_type": "code",
   "execution_count": 12,
   "metadata": {},
   "outputs": [
    {
     "data": {
      "text/plain": [
       "No     61608\n",
       "Yes    31182\n",
       "Name: Credit_Product, dtype: int64"
      ]
     },
     "execution_count": 12,
     "metadata": {},
     "output_type": "execute_result"
    }
   ],
   "source": [
    "test.Credit_Product.value_counts()"
   ]
  },
  {
   "cell_type": "code",
   "execution_count": 13,
   "metadata": {},
   "outputs": [
    {
     "data": {
      "text/plain": [
       "'No'"
      ]
     },
     "execution_count": 13,
     "metadata": {},
     "output_type": "execute_result"
    }
   ],
   "source": [
    "train.Credit_Product.mode()[0]"
   ]
  },
  {
   "cell_type": "code",
   "execution_count": 14,
   "metadata": {},
   "outputs": [
    {
     "data": {
      "text/plain": [
       "'No'"
      ]
     },
     "execution_count": 14,
     "metadata": {},
     "output_type": "execute_result"
    }
   ],
   "source": [
    "test.Credit_Product.mode()[0]"
   ]
  },
  {
   "cell_type": "code",
   "execution_count": 15,
   "metadata": {},
   "outputs": [],
   "source": [
    "train['Credit_Product']=train['Credit_Product'].fillna(train['Credit_Product'].mode()[0])"
   ]
  },
  {
   "cell_type": "code",
   "execution_count": 16,
   "metadata": {},
   "outputs": [],
   "source": [
    "test['Credit_Product']=test['Credit_Product'].fillna(test['Credit_Product'].mode()[0])"
   ]
  },
  {
   "cell_type": "code",
   "execution_count": 17,
   "metadata": {},
   "outputs": [
    {
     "data": {
      "text/plain": [
       "ID                     0\n",
       "Gender                 0\n",
       "Age                    0\n",
       "Region_Code            0\n",
       "Occupation             0\n",
       "Channel_Code           0\n",
       "Vintage                0\n",
       "Credit_Product         0\n",
       "Avg_Account_Balance    0\n",
       "Is_Active              0\n",
       "Is_Lead                0\n",
       "dtype: int64"
      ]
     },
     "execution_count": 17,
     "metadata": {},
     "output_type": "execute_result"
    }
   ],
   "source": [
    "train.isnull().sum()"
   ]
  },
  {
   "cell_type": "code",
   "execution_count": 18,
   "metadata": {},
   "outputs": [
    {
     "data": {
      "text/plain": [
       "ID                     0\n",
       "Gender                 0\n",
       "Age                    0\n",
       "Region_Code            0\n",
       "Occupation             0\n",
       "Channel_Code           0\n",
       "Vintage                0\n",
       "Credit_Product         0\n",
       "Avg_Account_Balance    0\n",
       "Is_Active              0\n",
       "dtype: int64"
      ]
     },
     "execution_count": 18,
     "metadata": {},
     "output_type": "execute_result"
    }
   ],
   "source": [
    "test.isnull().sum()"
   ]
  },
  {
   "cell_type": "code",
   "execution_count": 19,
   "metadata": {},
   "outputs": [
    {
     "data": {
      "text/plain": [
       "Occupation     Is_Lead\n",
       "Entrepreneur   0            905\n",
       "               1           1762\n",
       "Other          0          52984\n",
       "               1          17189\n",
       "Salaried       0          60503\n",
       "               1          11496\n",
       "Self_Employed  0          73045\n",
       "               1          27841\n",
       "Name: ID, dtype: int64"
      ]
     },
     "execution_count": 19,
     "metadata": {},
     "output_type": "execute_result"
    }
   ],
   "source": [
    "train.groupby(['Occupation','Is_Lead'])['ID'].count()"
   ]
  },
  {
   "cell_type": "code",
   "execution_count": 20,
   "metadata": {},
   "outputs": [
    {
     "data": {
      "text/plain": [
       "Male      134197\n",
       "Female    111528\n",
       "Name: Gender, dtype: int64"
      ]
     },
     "execution_count": 20,
     "metadata": {},
     "output_type": "execute_result"
    }
   ],
   "source": [
    "train.Gender.value_counts()"
   ]
  },
  {
   "cell_type": "code",
   "execution_count": 21,
   "metadata": {},
   "outputs": [],
   "source": [
    "train['Gender'] = train['Gender'].map( {'Female': 0, 'Male': 1} ).astype(int)"
   ]
  },
  {
   "cell_type": "code",
   "execution_count": 22,
   "metadata": {},
   "outputs": [
    {
     "data": {
      "text/plain": [
       "1    134197\n",
       "0    111528\n",
       "Name: Gender, dtype: int64"
      ]
     },
     "execution_count": 22,
     "metadata": {},
     "output_type": "execute_result"
    }
   ],
   "source": [
    "train.Gender.value_counts()"
   ]
  },
  {
   "cell_type": "code",
   "execution_count": 23,
   "metadata": {},
   "outputs": [],
   "source": [
    "test['Gender'] = test['Gender'].map( {'Female': 0, 'Male': 1} ).astype(int)"
   ]
  },
  {
   "cell_type": "code",
   "execution_count": 24,
   "metadata": {},
   "outputs": [
    {
     "data": {
      "text/plain": [
       "1    57705\n",
       "0    47607\n",
       "Name: Gender, dtype: int64"
      ]
     },
     "execution_count": 24,
     "metadata": {},
     "output_type": "execute_result"
    }
   ],
   "source": [
    "test['Gender'].value_counts()"
   ]
  },
  {
   "cell_type": "code",
   "execution_count": 25,
   "metadata": {},
   "outputs": [],
   "source": [
    "from sklearn.preprocessing import LabelEncoder\n",
    "le = LabelEncoder()"
   ]
  },
  {
   "cell_type": "code",
   "execution_count": 26,
   "metadata": {},
   "outputs": [],
   "source": [
    "for i in categorical_columns:\n",
    "    train[i] = le.fit_transform(train[i])"
   ]
  },
  {
   "cell_type": "code",
   "execution_count": 27,
   "metadata": {},
   "outputs": [
    {
     "data": {
      "text/html": [
       "<div>\n",
       "<style scoped>\n",
       "    .dataframe tbody tr th:only-of-type {\n",
       "        vertical-align: middle;\n",
       "    }\n",
       "\n",
       "    .dataframe tbody tr th {\n",
       "        vertical-align: top;\n",
       "    }\n",
       "\n",
       "    .dataframe thead th {\n",
       "        text-align: right;\n",
       "    }\n",
       "</style>\n",
       "<table border=\"1\" class=\"dataframe\">\n",
       "  <thead>\n",
       "    <tr style=\"text-align: right;\">\n",
       "      <th></th>\n",
       "      <th>ID</th>\n",
       "      <th>Gender</th>\n",
       "      <th>Age</th>\n",
       "      <th>Region_Code</th>\n",
       "      <th>Occupation</th>\n",
       "      <th>Channel_Code</th>\n",
       "      <th>Vintage</th>\n",
       "      <th>Credit_Product</th>\n",
       "      <th>Avg_Account_Balance</th>\n",
       "      <th>Is_Active</th>\n",
       "      <th>Is_Lead</th>\n",
       "    </tr>\n",
       "  </thead>\n",
       "  <tbody>\n",
       "    <tr>\n",
       "      <th>0</th>\n",
       "      <td>NNVBBKZB</td>\n",
       "      <td>0</td>\n",
       "      <td>73</td>\n",
       "      <td>18</td>\n",
       "      <td>1</td>\n",
       "      <td>2</td>\n",
       "      <td>43</td>\n",
       "      <td>0</td>\n",
       "      <td>1045696</td>\n",
       "      <td>0</td>\n",
       "      <td>0</td>\n",
       "    </tr>\n",
       "    <tr>\n",
       "      <th>1</th>\n",
       "      <td>IDD62UNG</td>\n",
       "      <td>0</td>\n",
       "      <td>30</td>\n",
       "      <td>27</td>\n",
       "      <td>2</td>\n",
       "      <td>0</td>\n",
       "      <td>32</td>\n",
       "      <td>0</td>\n",
       "      <td>581988</td>\n",
       "      <td>0</td>\n",
       "      <td>0</td>\n",
       "    </tr>\n",
       "    <tr>\n",
       "      <th>2</th>\n",
       "      <td>HD3DSEMC</td>\n",
       "      <td>0</td>\n",
       "      <td>56</td>\n",
       "      <td>18</td>\n",
       "      <td>3</td>\n",
       "      <td>2</td>\n",
       "      <td>26</td>\n",
       "      <td>0</td>\n",
       "      <td>1484315</td>\n",
       "      <td>1</td>\n",
       "      <td>0</td>\n",
       "    </tr>\n",
       "    <tr>\n",
       "      <th>3</th>\n",
       "      <td>BF3NC7KV</td>\n",
       "      <td>1</td>\n",
       "      <td>34</td>\n",
       "      <td>20</td>\n",
       "      <td>2</td>\n",
       "      <td>0</td>\n",
       "      <td>19</td>\n",
       "      <td>0</td>\n",
       "      <td>470454</td>\n",
       "      <td>0</td>\n",
       "      <td>0</td>\n",
       "    </tr>\n",
       "    <tr>\n",
       "      <th>4</th>\n",
       "      <td>TEASRWXV</td>\n",
       "      <td>0</td>\n",
       "      <td>30</td>\n",
       "      <td>32</td>\n",
       "      <td>2</td>\n",
       "      <td>0</td>\n",
       "      <td>33</td>\n",
       "      <td>0</td>\n",
       "      <td>886787</td>\n",
       "      <td>0</td>\n",
       "      <td>0</td>\n",
       "    </tr>\n",
       "  </tbody>\n",
       "</table>\n",
       "</div>"
      ],
      "text/plain": [
       "         ID  Gender  Age  Region_Code  Occupation  Channel_Code  Vintage  \\\n",
       "0  NNVBBKZB       0   73           18           1             2       43   \n",
       "1  IDD62UNG       0   30           27           2             0       32   \n",
       "2  HD3DSEMC       0   56           18           3             2       26   \n",
       "3  BF3NC7KV       1   34           20           2             0       19   \n",
       "4  TEASRWXV       0   30           32           2             0       33   \n",
       "\n",
       "   Credit_Product  Avg_Account_Balance  Is_Active  Is_Lead  \n",
       "0               0              1045696          0        0  \n",
       "1               0               581988          0        0  \n",
       "2               0              1484315          1        0  \n",
       "3               0               470454          0        0  \n",
       "4               0               886787          0        0  "
      ]
     },
     "execution_count": 27,
     "metadata": {},
     "output_type": "execute_result"
    }
   ],
   "source": [
    "train.head()"
   ]
  },
  {
   "cell_type": "code",
   "execution_count": 28,
   "metadata": {},
   "outputs": [
    {
     "name": "stdout",
     "output_type": "stream",
     "text": [
      "<class 'pandas.core.frame.DataFrame'>\n",
      "RangeIndex: 245725 entries, 0 to 245724\n",
      "Data columns (total 11 columns):\n",
      "ID                     245725 non-null object\n",
      "Gender                 245725 non-null int32\n",
      "Age                    245725 non-null int64\n",
      "Region_Code            245725 non-null int32\n",
      "Occupation             245725 non-null int32\n",
      "Channel_Code           245725 non-null int32\n",
      "Vintage                245725 non-null int64\n",
      "Credit_Product         245725 non-null int32\n",
      "Avg_Account_Balance    245725 non-null int64\n",
      "Is_Active              245725 non-null int32\n",
      "Is_Lead                245725 non-null int64\n",
      "dtypes: int32(6), int64(4), object(1)\n",
      "memory usage: 15.0+ MB\n"
     ]
    }
   ],
   "source": [
    "train.info()"
   ]
  },
  {
   "cell_type": "code",
   "execution_count": 29,
   "metadata": {},
   "outputs": [],
   "source": [
    "from sklearn.preprocessing import LabelEncoder, StandardScaler, MinMaxScaler, RobustScaler\n",
    "ss = StandardScaler()\n",
    "train[numerical_columns] = ss.fit_transform(train[numerical_columns])\n",
    "\n",
    "\n",
    "mm = MinMaxScaler()\n",
    "train[['Avg_Account_Balance']] = mm.fit_transform(train[['Avg_Account_Balance']])"
   ]
  },
  {
   "cell_type": "code",
   "execution_count": 30,
   "metadata": {},
   "outputs": [
    {
     "data": {
      "text/html": [
       "<div>\n",
       "<style scoped>\n",
       "    .dataframe tbody tr th:only-of-type {\n",
       "        vertical-align: middle;\n",
       "    }\n",
       "\n",
       "    .dataframe tbody tr th {\n",
       "        vertical-align: top;\n",
       "    }\n",
       "\n",
       "    .dataframe thead th {\n",
       "        text-align: right;\n",
       "    }\n",
       "</style>\n",
       "<table border=\"1\" class=\"dataframe\">\n",
       "  <thead>\n",
       "    <tr style=\"text-align: right;\">\n",
       "      <th></th>\n",
       "      <th>ID</th>\n",
       "      <th>Gender</th>\n",
       "      <th>Age</th>\n",
       "      <th>Region_Code</th>\n",
       "      <th>Occupation</th>\n",
       "      <th>Channel_Code</th>\n",
       "      <th>Vintage</th>\n",
       "      <th>Credit_Product</th>\n",
       "      <th>Avg_Account_Balance</th>\n",
       "      <th>Is_Active</th>\n",
       "      <th>Is_Lead</th>\n",
       "    </tr>\n",
       "  </thead>\n",
       "  <tbody>\n",
       "    <tr>\n",
       "      <th>0</th>\n",
       "      <td>NNVBBKZB</td>\n",
       "      <td>0</td>\n",
       "      <td>1.965365</td>\n",
       "      <td>18</td>\n",
       "      <td>1</td>\n",
       "      <td>2</td>\n",
       "      <td>-0.122373</td>\n",
       "      <td>0</td>\n",
       "      <td>0.099205</td>\n",
       "      <td>0</td>\n",
       "      <td>0</td>\n",
       "    </tr>\n",
       "    <tr>\n",
       "      <th>1</th>\n",
       "      <td>IDD62UNG</td>\n",
       "      <td>0</td>\n",
       "      <td>-0.934429</td>\n",
       "      <td>27</td>\n",
       "      <td>2</td>\n",
       "      <td>0</td>\n",
       "      <td>-0.462372</td>\n",
       "      <td>0</td>\n",
       "      <td>0.054321</td>\n",
       "      <td>0</td>\n",
       "      <td>0</td>\n",
       "    </tr>\n",
       "    <tr>\n",
       "      <th>2</th>\n",
       "      <td>HD3DSEMC</td>\n",
       "      <td>0</td>\n",
       "      <td>0.818935</td>\n",
       "      <td>18</td>\n",
       "      <td>3</td>\n",
       "      <td>2</td>\n",
       "      <td>-0.647825</td>\n",
       "      <td>0</td>\n",
       "      <td>0.141660</td>\n",
       "      <td>1</td>\n",
       "      <td>0</td>\n",
       "    </tr>\n",
       "    <tr>\n",
       "      <th>3</th>\n",
       "      <td>BF3NC7KV</td>\n",
       "      <td>1</td>\n",
       "      <td>-0.664680</td>\n",
       "      <td>20</td>\n",
       "      <td>2</td>\n",
       "      <td>0</td>\n",
       "      <td>-0.864188</td>\n",
       "      <td>0</td>\n",
       "      <td>0.043525</td>\n",
       "      <td>0</td>\n",
       "      <td>0</td>\n",
       "    </tr>\n",
       "    <tr>\n",
       "      <th>4</th>\n",
       "      <td>TEASRWXV</td>\n",
       "      <td>0</td>\n",
       "      <td>-0.934429</td>\n",
       "      <td>32</td>\n",
       "      <td>2</td>\n",
       "      <td>0</td>\n",
       "      <td>-0.431463</td>\n",
       "      <td>0</td>\n",
       "      <td>0.083823</td>\n",
       "      <td>0</td>\n",
       "      <td>0</td>\n",
       "    </tr>\n",
       "  </tbody>\n",
       "</table>\n",
       "</div>"
      ],
      "text/plain": [
       "         ID  Gender       Age  Region_Code  Occupation  Channel_Code  \\\n",
       "0  NNVBBKZB       0  1.965365           18           1             2   \n",
       "1  IDD62UNG       0 -0.934429           27           2             0   \n",
       "2  HD3DSEMC       0  0.818935           18           3             2   \n",
       "3  BF3NC7KV       1 -0.664680           20           2             0   \n",
       "4  TEASRWXV       0 -0.934429           32           2             0   \n",
       "\n",
       "    Vintage  Credit_Product  Avg_Account_Balance  Is_Active  Is_Lead  \n",
       "0 -0.122373               0             0.099205          0        0  \n",
       "1 -0.462372               0             0.054321          0        0  \n",
       "2 -0.647825               0             0.141660          1        0  \n",
       "3 -0.864188               0             0.043525          0        0  \n",
       "4 -0.431463               0             0.083823          0        0  "
      ]
     },
     "execution_count": 30,
     "metadata": {},
     "output_type": "execute_result"
    }
   ],
   "source": [
    "train.head()"
   ]
  },
  {
   "cell_type": "code",
   "execution_count": 32,
   "metadata": {},
   "outputs": [],
   "source": [
    "train = pd.get_dummies(train, columns=['Gender','Region_Code','Occupation','Channel_Code','Credit_Product','Is_Active'])"
   ]
  },
  {
   "cell_type": "code",
   "execution_count": 33,
   "metadata": {},
   "outputs": [
    {
     "name": "stdout",
     "output_type": "stream",
     "text": [
      "<class 'pandas.core.frame.DataFrame'>\n",
      "RangeIndex: 245725 entries, 0 to 245724\n",
      "Data columns (total 54 columns):\n",
      "ID                     245725 non-null object\n",
      "Age                    245725 non-null float64\n",
      "Vintage                245725 non-null float64\n",
      "Avg_Account_Balance    245725 non-null float64\n",
      "Is_Lead                245725 non-null int64\n",
      "Gender_0               245725 non-null uint8\n",
      "Gender_1               245725 non-null uint8\n",
      "Region_Code_0          245725 non-null uint8\n",
      "Region_Code_1          245725 non-null uint8\n",
      "Region_Code_2          245725 non-null uint8\n",
      "Region_Code_3          245725 non-null uint8\n",
      "Region_Code_4          245725 non-null uint8\n",
      "Region_Code_5          245725 non-null uint8\n",
      "Region_Code_6          245725 non-null uint8\n",
      "Region_Code_7          245725 non-null uint8\n",
      "Region_Code_8          245725 non-null uint8\n",
      "Region_Code_9          245725 non-null uint8\n",
      "Region_Code_10         245725 non-null uint8\n",
      "Region_Code_11         245725 non-null uint8\n",
      "Region_Code_12         245725 non-null uint8\n",
      "Region_Code_13         245725 non-null uint8\n",
      "Region_Code_14         245725 non-null uint8\n",
      "Region_Code_15         245725 non-null uint8\n",
      "Region_Code_16         245725 non-null uint8\n",
      "Region_Code_17         245725 non-null uint8\n",
      "Region_Code_18         245725 non-null uint8\n",
      "Region_Code_19         245725 non-null uint8\n",
      "Region_Code_20         245725 non-null uint8\n",
      "Region_Code_21         245725 non-null uint8\n",
      "Region_Code_22         245725 non-null uint8\n",
      "Region_Code_23         245725 non-null uint8\n",
      "Region_Code_24         245725 non-null uint8\n",
      "Region_Code_25         245725 non-null uint8\n",
      "Region_Code_26         245725 non-null uint8\n",
      "Region_Code_27         245725 non-null uint8\n",
      "Region_Code_28         245725 non-null uint8\n",
      "Region_Code_29         245725 non-null uint8\n",
      "Region_Code_30         245725 non-null uint8\n",
      "Region_Code_31         245725 non-null uint8\n",
      "Region_Code_32         245725 non-null uint8\n",
      "Region_Code_33         245725 non-null uint8\n",
      "Region_Code_34         245725 non-null uint8\n",
      "Occupation_0           245725 non-null uint8\n",
      "Occupation_1           245725 non-null uint8\n",
      "Occupation_2           245725 non-null uint8\n",
      "Occupation_3           245725 non-null uint8\n",
      "Channel_Code_0         245725 non-null uint8\n",
      "Channel_Code_1         245725 non-null uint8\n",
      "Channel_Code_2         245725 non-null uint8\n",
      "Channel_Code_3         245725 non-null uint8\n",
      "Credit_Product_0       245725 non-null uint8\n",
      "Credit_Product_1       245725 non-null uint8\n",
      "Is_Active_0            245725 non-null uint8\n",
      "Is_Active_1            245725 non-null uint8\n",
      "dtypes: float64(3), int64(1), object(1), uint8(49)\n",
      "memory usage: 20.9+ MB\n"
     ]
    }
   ],
   "source": [
    "train.info()"
   ]
  },
  {
   "cell_type": "code",
   "execution_count": 34,
   "metadata": {},
   "outputs": [
    {
     "data": {
      "text/html": [
       "<div>\n",
       "<style scoped>\n",
       "    .dataframe tbody tr th:only-of-type {\n",
       "        vertical-align: middle;\n",
       "    }\n",
       "\n",
       "    .dataframe tbody tr th {\n",
       "        vertical-align: top;\n",
       "    }\n",
       "\n",
       "    .dataframe thead th {\n",
       "        text-align: right;\n",
       "    }\n",
       "</style>\n",
       "<table border=\"1\" class=\"dataframe\">\n",
       "  <thead>\n",
       "    <tr style=\"text-align: right;\">\n",
       "      <th></th>\n",
       "      <th>ID</th>\n",
       "      <th>Age</th>\n",
       "      <th>Vintage</th>\n",
       "      <th>Avg_Account_Balance</th>\n",
       "      <th>Is_Lead</th>\n",
       "      <th>Gender_0</th>\n",
       "      <th>Gender_1</th>\n",
       "      <th>Region_Code_0</th>\n",
       "      <th>Region_Code_1</th>\n",
       "      <th>Region_Code_2</th>\n",
       "      <th>...</th>\n",
       "      <th>Occupation_2</th>\n",
       "      <th>Occupation_3</th>\n",
       "      <th>Channel_Code_0</th>\n",
       "      <th>Channel_Code_1</th>\n",
       "      <th>Channel_Code_2</th>\n",
       "      <th>Channel_Code_3</th>\n",
       "      <th>Credit_Product_0</th>\n",
       "      <th>Credit_Product_1</th>\n",
       "      <th>Is_Active_0</th>\n",
       "      <th>Is_Active_1</th>\n",
       "    </tr>\n",
       "  </thead>\n",
       "  <tbody>\n",
       "    <tr>\n",
       "      <th>0</th>\n",
       "      <td>NNVBBKZB</td>\n",
       "      <td>1.965365</td>\n",
       "      <td>-0.122373</td>\n",
       "      <td>0.099205</td>\n",
       "      <td>0</td>\n",
       "      <td>1</td>\n",
       "      <td>0</td>\n",
       "      <td>0</td>\n",
       "      <td>0</td>\n",
       "      <td>0</td>\n",
       "      <td>...</td>\n",
       "      <td>0</td>\n",
       "      <td>0</td>\n",
       "      <td>0</td>\n",
       "      <td>0</td>\n",
       "      <td>1</td>\n",
       "      <td>0</td>\n",
       "      <td>1</td>\n",
       "      <td>0</td>\n",
       "      <td>1</td>\n",
       "      <td>0</td>\n",
       "    </tr>\n",
       "    <tr>\n",
       "      <th>1</th>\n",
       "      <td>IDD62UNG</td>\n",
       "      <td>-0.934429</td>\n",
       "      <td>-0.462372</td>\n",
       "      <td>0.054321</td>\n",
       "      <td>0</td>\n",
       "      <td>1</td>\n",
       "      <td>0</td>\n",
       "      <td>0</td>\n",
       "      <td>0</td>\n",
       "      <td>0</td>\n",
       "      <td>...</td>\n",
       "      <td>1</td>\n",
       "      <td>0</td>\n",
       "      <td>1</td>\n",
       "      <td>0</td>\n",
       "      <td>0</td>\n",
       "      <td>0</td>\n",
       "      <td>1</td>\n",
       "      <td>0</td>\n",
       "      <td>1</td>\n",
       "      <td>0</td>\n",
       "    </tr>\n",
       "    <tr>\n",
       "      <th>2</th>\n",
       "      <td>HD3DSEMC</td>\n",
       "      <td>0.818935</td>\n",
       "      <td>-0.647825</td>\n",
       "      <td>0.141660</td>\n",
       "      <td>0</td>\n",
       "      <td>1</td>\n",
       "      <td>0</td>\n",
       "      <td>0</td>\n",
       "      <td>0</td>\n",
       "      <td>0</td>\n",
       "      <td>...</td>\n",
       "      <td>0</td>\n",
       "      <td>1</td>\n",
       "      <td>0</td>\n",
       "      <td>0</td>\n",
       "      <td>1</td>\n",
       "      <td>0</td>\n",
       "      <td>1</td>\n",
       "      <td>0</td>\n",
       "      <td>0</td>\n",
       "      <td>1</td>\n",
       "    </tr>\n",
       "    <tr>\n",
       "      <th>3</th>\n",
       "      <td>BF3NC7KV</td>\n",
       "      <td>-0.664680</td>\n",
       "      <td>-0.864188</td>\n",
       "      <td>0.043525</td>\n",
       "      <td>0</td>\n",
       "      <td>0</td>\n",
       "      <td>1</td>\n",
       "      <td>0</td>\n",
       "      <td>0</td>\n",
       "      <td>0</td>\n",
       "      <td>...</td>\n",
       "      <td>1</td>\n",
       "      <td>0</td>\n",
       "      <td>1</td>\n",
       "      <td>0</td>\n",
       "      <td>0</td>\n",
       "      <td>0</td>\n",
       "      <td>1</td>\n",
       "      <td>0</td>\n",
       "      <td>1</td>\n",
       "      <td>0</td>\n",
       "    </tr>\n",
       "    <tr>\n",
       "      <th>4</th>\n",
       "      <td>TEASRWXV</td>\n",
       "      <td>-0.934429</td>\n",
       "      <td>-0.431463</td>\n",
       "      <td>0.083823</td>\n",
       "      <td>0</td>\n",
       "      <td>1</td>\n",
       "      <td>0</td>\n",
       "      <td>0</td>\n",
       "      <td>0</td>\n",
       "      <td>0</td>\n",
       "      <td>...</td>\n",
       "      <td>1</td>\n",
       "      <td>0</td>\n",
       "      <td>1</td>\n",
       "      <td>0</td>\n",
       "      <td>0</td>\n",
       "      <td>0</td>\n",
       "      <td>1</td>\n",
       "      <td>0</td>\n",
       "      <td>1</td>\n",
       "      <td>0</td>\n",
       "    </tr>\n",
       "  </tbody>\n",
       "</table>\n",
       "<p>5 rows × 54 columns</p>\n",
       "</div>"
      ],
      "text/plain": [
       "         ID       Age   Vintage  Avg_Account_Balance  Is_Lead  Gender_0  \\\n",
       "0  NNVBBKZB  1.965365 -0.122373             0.099205        0         1   \n",
       "1  IDD62UNG -0.934429 -0.462372             0.054321        0         1   \n",
       "2  HD3DSEMC  0.818935 -0.647825             0.141660        0         1   \n",
       "3  BF3NC7KV -0.664680 -0.864188             0.043525        0         0   \n",
       "4  TEASRWXV -0.934429 -0.431463             0.083823        0         1   \n",
       "\n",
       "   Gender_1  Region_Code_0  Region_Code_1  Region_Code_2  ...  Occupation_2  \\\n",
       "0         0              0              0              0  ...             0   \n",
       "1         0              0              0              0  ...             1   \n",
       "2         0              0              0              0  ...             0   \n",
       "3         1              0              0              0  ...             1   \n",
       "4         0              0              0              0  ...             1   \n",
       "\n",
       "   Occupation_3  Channel_Code_0  Channel_Code_1  Channel_Code_2  \\\n",
       "0             0               0               0               1   \n",
       "1             0               1               0               0   \n",
       "2             1               0               0               1   \n",
       "3             0               1               0               0   \n",
       "4             0               1               0               0   \n",
       "\n",
       "   Channel_Code_3  Credit_Product_0  Credit_Product_1  Is_Active_0  \\\n",
       "0               0                 1                 0            1   \n",
       "1               0                 1                 0            1   \n",
       "2               0                 1                 0            0   \n",
       "3               0                 1                 0            1   \n",
       "4               0                 1                 0            1   \n",
       "\n",
       "   Is_Active_1  \n",
       "0            0  \n",
       "1            0  \n",
       "2            1  \n",
       "3            0  \n",
       "4            0  \n",
       "\n",
       "[5 rows x 54 columns]"
      ]
     },
     "execution_count": 34,
     "metadata": {},
     "output_type": "execute_result"
    }
   ],
   "source": [
    "train.head()"
   ]
  },
  {
   "cell_type": "code",
   "execution_count": 35,
   "metadata": {},
   "outputs": [],
   "source": [
    "test[numerical_columns] = ss.fit_transform(test[numerical_columns])\n",
    "\n",
    "\n",
    "mm = MinMaxScaler()\n",
    "test[['Avg_Account_Balance']] = mm.fit_transform(test[['Avg_Account_Balance']])"
   ]
  },
  {
   "cell_type": "code",
   "execution_count": 36,
   "metadata": {},
   "outputs": [
    {
     "data": {
      "text/html": [
       "<div>\n",
       "<style scoped>\n",
       "    .dataframe tbody tr th:only-of-type {\n",
       "        vertical-align: middle;\n",
       "    }\n",
       "\n",
       "    .dataframe tbody tr th {\n",
       "        vertical-align: top;\n",
       "    }\n",
       "\n",
       "    .dataframe thead th {\n",
       "        text-align: right;\n",
       "    }\n",
       "</style>\n",
       "<table border=\"1\" class=\"dataframe\">\n",
       "  <thead>\n",
       "    <tr style=\"text-align: right;\">\n",
       "      <th></th>\n",
       "      <th>ID</th>\n",
       "      <th>Gender</th>\n",
       "      <th>Age</th>\n",
       "      <th>Region_Code</th>\n",
       "      <th>Occupation</th>\n",
       "      <th>Channel_Code</th>\n",
       "      <th>Vintage</th>\n",
       "      <th>Credit_Product</th>\n",
       "      <th>Avg_Account_Balance</th>\n",
       "      <th>Is_Active</th>\n",
       "    </tr>\n",
       "  </thead>\n",
       "  <tbody>\n",
       "    <tr>\n",
       "      <th>0</th>\n",
       "      <td>VBENBARO</td>\n",
       "      <td>1</td>\n",
       "      <td>-0.999878</td>\n",
       "      <td>RG254</td>\n",
       "      <td>Other</td>\n",
       "      <td>X1</td>\n",
       "      <td>-0.676804</td>\n",
       "      <td>Yes</td>\n",
       "      <td>0.072805</td>\n",
       "      <td>No</td>\n",
       "    </tr>\n",
       "    <tr>\n",
       "      <th>1</th>\n",
       "      <td>CCMEWNKY</td>\n",
       "      <td>1</td>\n",
       "      <td>-0.058563</td>\n",
       "      <td>RG268</td>\n",
       "      <td>Other</td>\n",
       "      <td>X2</td>\n",
       "      <td>0.066841</td>\n",
       "      <td>No</td>\n",
       "      <td>0.091333</td>\n",
       "      <td>No</td>\n",
       "    </tr>\n",
       "    <tr>\n",
       "      <th>2</th>\n",
       "      <td>VK3KGA9M</td>\n",
       "      <td>1</td>\n",
       "      <td>-0.865404</td>\n",
       "      <td>RG270</td>\n",
       "      <td>Salaried</td>\n",
       "      <td>X1</td>\n",
       "      <td>-1.017641</td>\n",
       "      <td>No</td>\n",
       "      <td>0.019558</td>\n",
       "      <td>No</td>\n",
       "    </tr>\n",
       "    <tr>\n",
       "      <th>3</th>\n",
       "      <td>TT8RPZVC</td>\n",
       "      <td>1</td>\n",
       "      <td>-0.999878</td>\n",
       "      <td>RG272</td>\n",
       "      <td>Other</td>\n",
       "      <td>X1</td>\n",
       "      <td>-0.428922</td>\n",
       "      <td>No</td>\n",
       "      <td>0.085520</td>\n",
       "      <td>No</td>\n",
       "    </tr>\n",
       "    <tr>\n",
       "      <th>4</th>\n",
       "      <td>SHQZEYTZ</td>\n",
       "      <td>0</td>\n",
       "      <td>-0.999878</td>\n",
       "      <td>RG270</td>\n",
       "      <td>Other</td>\n",
       "      <td>X1</td>\n",
       "      <td>-0.862715</td>\n",
       "      <td>No</td>\n",
       "      <td>0.064179</td>\n",
       "      <td>No</td>\n",
       "    </tr>\n",
       "  </tbody>\n",
       "</table>\n",
       "</div>"
      ],
      "text/plain": [
       "         ID  Gender       Age Region_Code Occupation Channel_Code   Vintage  \\\n",
       "0  VBENBARO       1 -0.999878       RG254      Other           X1 -0.676804   \n",
       "1  CCMEWNKY       1 -0.058563       RG268      Other           X2  0.066841   \n",
       "2  VK3KGA9M       1 -0.865404       RG270   Salaried           X1 -1.017641   \n",
       "3  TT8RPZVC       1 -0.999878       RG272      Other           X1 -0.428922   \n",
       "4  SHQZEYTZ       0 -0.999878       RG270      Other           X1 -0.862715   \n",
       "\n",
       "  Credit_Product  Avg_Account_Balance Is_Active  \n",
       "0            Yes             0.072805        No  \n",
       "1             No             0.091333        No  \n",
       "2             No             0.019558        No  \n",
       "3             No             0.085520        No  \n",
       "4             No             0.064179        No  "
      ]
     },
     "execution_count": 36,
     "metadata": {},
     "output_type": "execute_result"
    }
   ],
   "source": [
    "test.head()"
   ]
  },
  {
   "cell_type": "code",
   "execution_count": 37,
   "metadata": {},
   "outputs": [],
   "source": [
    "for i in categorical_columns:\n",
    "    test[i] = le.fit_transform(test[i])"
   ]
  },
  {
   "cell_type": "code",
   "execution_count": 38,
   "metadata": {},
   "outputs": [],
   "source": [
    "test = pd.get_dummies(test, columns=['Gender','Region_Code','Occupation','Channel_Code','Credit_Product','Is_Active'])"
   ]
  },
  {
   "cell_type": "code",
   "execution_count": 39,
   "metadata": {},
   "outputs": [
    {
     "data": {
      "text/html": [
       "<div>\n",
       "<style scoped>\n",
       "    .dataframe tbody tr th:only-of-type {\n",
       "        vertical-align: middle;\n",
       "    }\n",
       "\n",
       "    .dataframe tbody tr th {\n",
       "        vertical-align: top;\n",
       "    }\n",
       "\n",
       "    .dataframe thead th {\n",
       "        text-align: right;\n",
       "    }\n",
       "</style>\n",
       "<table border=\"1\" class=\"dataframe\">\n",
       "  <thead>\n",
       "    <tr style=\"text-align: right;\">\n",
       "      <th></th>\n",
       "      <th>ID</th>\n",
       "      <th>Age</th>\n",
       "      <th>Vintage</th>\n",
       "      <th>Avg_Account_Balance</th>\n",
       "      <th>Gender_0</th>\n",
       "      <th>Gender_1</th>\n",
       "      <th>Region_Code_0</th>\n",
       "      <th>Region_Code_1</th>\n",
       "      <th>Region_Code_2</th>\n",
       "      <th>Region_Code_3</th>\n",
       "      <th>...</th>\n",
       "      <th>Occupation_2</th>\n",
       "      <th>Occupation_3</th>\n",
       "      <th>Channel_Code_0</th>\n",
       "      <th>Channel_Code_1</th>\n",
       "      <th>Channel_Code_2</th>\n",
       "      <th>Channel_Code_3</th>\n",
       "      <th>Credit_Product_0</th>\n",
       "      <th>Credit_Product_1</th>\n",
       "      <th>Is_Active_0</th>\n",
       "      <th>Is_Active_1</th>\n",
       "    </tr>\n",
       "  </thead>\n",
       "  <tbody>\n",
       "    <tr>\n",
       "      <th>0</th>\n",
       "      <td>VBENBARO</td>\n",
       "      <td>-0.999878</td>\n",
       "      <td>-0.676804</td>\n",
       "      <td>0.072805</td>\n",
       "      <td>0</td>\n",
       "      <td>1</td>\n",
       "      <td>0</td>\n",
       "      <td>0</td>\n",
       "      <td>0</td>\n",
       "      <td>0</td>\n",
       "      <td>...</td>\n",
       "      <td>0</td>\n",
       "      <td>0</td>\n",
       "      <td>1</td>\n",
       "      <td>0</td>\n",
       "      <td>0</td>\n",
       "      <td>0</td>\n",
       "      <td>0</td>\n",
       "      <td>1</td>\n",
       "      <td>1</td>\n",
       "      <td>0</td>\n",
       "    </tr>\n",
       "    <tr>\n",
       "      <th>1</th>\n",
       "      <td>CCMEWNKY</td>\n",
       "      <td>-0.058563</td>\n",
       "      <td>0.066841</td>\n",
       "      <td>0.091333</td>\n",
       "      <td>0</td>\n",
       "      <td>1</td>\n",
       "      <td>0</td>\n",
       "      <td>0</td>\n",
       "      <td>0</td>\n",
       "      <td>0</td>\n",
       "      <td>...</td>\n",
       "      <td>0</td>\n",
       "      <td>0</td>\n",
       "      <td>0</td>\n",
       "      <td>1</td>\n",
       "      <td>0</td>\n",
       "      <td>0</td>\n",
       "      <td>1</td>\n",
       "      <td>0</td>\n",
       "      <td>1</td>\n",
       "      <td>0</td>\n",
       "    </tr>\n",
       "    <tr>\n",
       "      <th>2</th>\n",
       "      <td>VK3KGA9M</td>\n",
       "      <td>-0.865404</td>\n",
       "      <td>-1.017641</td>\n",
       "      <td>0.019558</td>\n",
       "      <td>0</td>\n",
       "      <td>1</td>\n",
       "      <td>0</td>\n",
       "      <td>0</td>\n",
       "      <td>0</td>\n",
       "      <td>0</td>\n",
       "      <td>...</td>\n",
       "      <td>1</td>\n",
       "      <td>0</td>\n",
       "      <td>1</td>\n",
       "      <td>0</td>\n",
       "      <td>0</td>\n",
       "      <td>0</td>\n",
       "      <td>1</td>\n",
       "      <td>0</td>\n",
       "      <td>1</td>\n",
       "      <td>0</td>\n",
       "    </tr>\n",
       "    <tr>\n",
       "      <th>3</th>\n",
       "      <td>TT8RPZVC</td>\n",
       "      <td>-0.999878</td>\n",
       "      <td>-0.428922</td>\n",
       "      <td>0.085520</td>\n",
       "      <td>0</td>\n",
       "      <td>1</td>\n",
       "      <td>0</td>\n",
       "      <td>0</td>\n",
       "      <td>0</td>\n",
       "      <td>0</td>\n",
       "      <td>...</td>\n",
       "      <td>0</td>\n",
       "      <td>0</td>\n",
       "      <td>1</td>\n",
       "      <td>0</td>\n",
       "      <td>0</td>\n",
       "      <td>0</td>\n",
       "      <td>1</td>\n",
       "      <td>0</td>\n",
       "      <td>1</td>\n",
       "      <td>0</td>\n",
       "    </tr>\n",
       "    <tr>\n",
       "      <th>4</th>\n",
       "      <td>SHQZEYTZ</td>\n",
       "      <td>-0.999878</td>\n",
       "      <td>-0.862715</td>\n",
       "      <td>0.064179</td>\n",
       "      <td>1</td>\n",
       "      <td>0</td>\n",
       "      <td>0</td>\n",
       "      <td>0</td>\n",
       "      <td>0</td>\n",
       "      <td>0</td>\n",
       "      <td>...</td>\n",
       "      <td>0</td>\n",
       "      <td>0</td>\n",
       "      <td>1</td>\n",
       "      <td>0</td>\n",
       "      <td>0</td>\n",
       "      <td>0</td>\n",
       "      <td>1</td>\n",
       "      <td>0</td>\n",
       "      <td>1</td>\n",
       "      <td>0</td>\n",
       "    </tr>\n",
       "  </tbody>\n",
       "</table>\n",
       "<p>5 rows × 53 columns</p>\n",
       "</div>"
      ],
      "text/plain": [
       "         ID       Age   Vintage  Avg_Account_Balance  Gender_0  Gender_1  \\\n",
       "0  VBENBARO -0.999878 -0.676804             0.072805         0         1   \n",
       "1  CCMEWNKY -0.058563  0.066841             0.091333         0         1   \n",
       "2  VK3KGA9M -0.865404 -1.017641             0.019558         0         1   \n",
       "3  TT8RPZVC -0.999878 -0.428922             0.085520         0         1   \n",
       "4  SHQZEYTZ -0.999878 -0.862715             0.064179         1         0   \n",
       "\n",
       "   Region_Code_0  Region_Code_1  Region_Code_2  Region_Code_3  ...  \\\n",
       "0              0              0              0              0  ...   \n",
       "1              0              0              0              0  ...   \n",
       "2              0              0              0              0  ...   \n",
       "3              0              0              0              0  ...   \n",
       "4              0              0              0              0  ...   \n",
       "\n",
       "   Occupation_2  Occupation_3  Channel_Code_0  Channel_Code_1  Channel_Code_2  \\\n",
       "0             0             0               1               0               0   \n",
       "1             0             0               0               1               0   \n",
       "2             1             0               1               0               0   \n",
       "3             0             0               1               0               0   \n",
       "4             0             0               1               0               0   \n",
       "\n",
       "   Channel_Code_3  Credit_Product_0  Credit_Product_1  Is_Active_0  \\\n",
       "0               0                 0                 1            1   \n",
       "1               0                 1                 0            1   \n",
       "2               0                 1                 0            1   \n",
       "3               0                 1                 0            1   \n",
       "4               0                 1                 0            1   \n",
       "\n",
       "   Is_Active_1  \n",
       "0            0  \n",
       "1            0  \n",
       "2            0  \n",
       "3            0  \n",
       "4            0  \n",
       "\n",
       "[5 rows x 53 columns]"
      ]
     },
     "execution_count": 39,
     "metadata": {},
     "output_type": "execute_result"
    }
   ],
   "source": [
    "test.head()"
   ]
  },
  {
   "cell_type": "code",
   "execution_count": 40,
   "metadata": {},
   "outputs": [
    {
     "data": {
      "text/plain": [
       "((245725, 54), (105312, 53))"
      ]
     },
     "execution_count": 40,
     "metadata": {},
     "output_type": "execute_result"
    }
   ],
   "source": [
    "train.shape,test.shape"
   ]
  },
  {
   "cell_type": "code",
   "execution_count": 41,
   "metadata": {},
   "outputs": [],
   "source": [
    "from sklearn.model_selection import train_test_split\n",
    "from sklearn.linear_model import LogisticRegression\n",
    "from sklearn.metrics import f1_score as f1,roc_auc_score"
   ]
  },
  {
   "cell_type": "code",
   "execution_count": 42,
   "metadata": {},
   "outputs": [],
   "source": [
    "X= train.drop(columns = ['ID','Is_Lead'], axis=1)\n",
    "y= train['Is_Lead']"
   ]
  },
  {
   "cell_type": "code",
   "execution_count": 43,
   "metadata": {},
   "outputs": [],
   "source": [
    "X_train,X_valid,y_train,y_valid = train_test_split(X,y,test_size=0.2,random_state=22)"
   ]
  },
  {
   "cell_type": "code",
   "execution_count": 44,
   "metadata": {},
   "outputs": [
    {
     "data": {
      "text/plain": [
       "LogisticRegression(C=1.0, class_weight=None, dual=False, fit_intercept=True,\n",
       "                   intercept_scaling=1, l1_ratio=None, max_iter=100,\n",
       "                   multi_class='auto', n_jobs=None, penalty='l2',\n",
       "                   random_state=None, solver='lbfgs', tol=0.0001, verbose=0,\n",
       "                   warm_start=False)"
      ]
     },
     "execution_count": 44,
     "metadata": {},
     "output_type": "execute_result"
    }
   ],
   "source": [
    "features= X.columns\n",
    "LR = LogisticRegression()\n",
    "LR.fit(X_train,y_train)"
   ]
  },
  {
   "cell_type": "code",
   "execution_count": 45,
   "metadata": {},
   "outputs": [],
   "source": [
    "y_pred = LR.predict(X_valid)"
   ]
  },
  {
   "cell_type": "code",
   "execution_count": 46,
   "metadata": {},
   "outputs": [
    {
     "data": {
      "text/plain": [
       "0.5497916406856556"
      ]
     },
     "execution_count": 46,
     "metadata": {},
     "output_type": "execute_result"
    }
   ],
   "source": [
    "roc_auc_score(y_valid,y_pred)"
   ]
  },
  {
   "cell_type": "code",
   "execution_count": 52,
   "metadata": {},
   "outputs": [],
   "source": [
    "from sklearn.model_selection import RandomizedSearchCV\n",
    "from sklearn.model_selection import cross_val_score\n",
    "from sklearn.ensemble import RandomForestClassifier\n",
    "#from catboost import CatBoostClassifier\n",
    "from scipy.stats import randint\n",
    "import pickle\n",
    "import xgboost as xgb\n",
    "#import lightgbm as lgb\n",
    "from sklearn.metrics import accuracy_score\n",
    "# import packages for hyperparameters tuning\n",
    "#from hyperopt import STATUS_OK, Trials, fmin, hp, tpe\n",
    "from sklearn.model_selection import RandomizedSearchCV, StratifiedKFold, KFold, GridSearchCV\n",
    "from sklearn.metrics import f1_score, roc_auc_score,accuracy_score,confusion_matrix, precision_recall_curve,auc, roc_curve, recall_score, classification_report"
   ]
  },
  {
   "cell_type": "code",
   "execution_count": 54,
   "metadata": {},
   "outputs": [
    {
     "name": "stdout",
     "output_type": "stream",
     "text": [
      "Collecting hyperopt\n",
      "  Downloading hyperopt-0.2.5-py2.py3-none-any.whl (965 kB)\n",
      "Requirement already satisfied: six in c:\\users\\jaydeep\\anaconda3\\lib\\site-packages (from hyperopt) (1.14.0)\n",
      "Requirement already satisfied: numpy in c:\\users\\jaydeep\\anaconda3\\lib\\site-packages (from hyperopt) (1.18.1)\n",
      "Requirement already satisfied: scipy in c:\\users\\jaydeep\\anaconda3\\lib\\site-packages (from hyperopt) (1.4.1)\n",
      "Requirement already satisfied: future in c:\\users\\jaydeep\\anaconda3\\lib\\site-packages (from hyperopt) (0.18.2)\n",
      "Requirement already satisfied: cloudpickle in c:\\users\\jaydeep\\anaconda3\\lib\\site-packages (from hyperopt) (1.3.0)\n",
      "Requirement already satisfied: tqdm in c:\\users\\jaydeep\\anaconda3\\lib\\site-packages (from hyperopt) (4.42.1)\n",
      "Requirement already satisfied: networkx>=2.2 in c:\\users\\jaydeep\\anaconda3\\lib\\site-packages (from hyperopt) (2.4)\n",
      "Requirement already satisfied: decorator>=4.3.0 in c:\\users\\jaydeep\\anaconda3\\lib\\site-packages (from networkx>=2.2->hyperopt) (4.4.1)\n",
      "Installing collected packages: hyperopt\n",
      "Successfully installed hyperopt-0.2.5\n"
     ]
    },
    {
     "name": "stderr",
     "output_type": "stream",
     "text": [
      "WARNING: You are using pip version 21.0.1; however, version 21.1.2 is available.\n",
      "You should consider upgrading via the 'c:\\users\\jaydeep\\anaconda3\\python.exe -m pip install --upgrade pip' command.\n"
     ]
    }
   ],
   "source": [
    "#!pip install hyperopt"
   ]
  },
  {
   "cell_type": "code",
   "execution_count": 55,
   "metadata": {},
   "outputs": [],
   "source": [
    "from hyperopt import STATUS_OK, Trials, fmin, hp, tpe"
   ]
  },
  {
   "cell_type": "code",
   "execution_count": 56,
   "metadata": {},
   "outputs": [],
   "source": [
    "space={ 'max_depth': hp.quniform(\"max_depth\", 3,18,1),\n",
    "        'gamma': hp.uniform ('gamma', 1,9),\n",
    "        'reg_alpha' : hp.quniform('reg_alpha', 40,180,1),\n",
    "        'reg_lambda' : hp.uniform('reg_lambda', 0,1),\n",
    "        'colsample_bytree' : hp.uniform('colsample_bytree', 0.5,1),\n",
    "        'min_child_weight' : hp.quniform('min_child_weight', 0, 10, 1),\n",
    "        'n_estimators': 300,\n",
    "        'seed': 0\n",
    "      }"
   ]
  },
  {
   "cell_type": "code",
   "execution_count": 62,
   "metadata": {},
   "outputs": [],
   "source": [
    "def objective(space):\n",
    "    clf=xgb.XGBClassifier(\n",
    "                    n_estimators =space['n_estimators'], max_depth = int(space['max_depth']), gamma = space['gamma'],\n",
    "                    reg_alpha = int(space['reg_alpha']),min_child_weight=int(space['min_child_weight']),\n",
    "                    colsample_bytree=int(space['colsample_bytree']))\n",
    "    \n",
    "    evaluation = [( X_train, y_train), ( X_valid, y_valid)]\n",
    "    \n",
    "    clf.fit(X_train, y_train,\n",
    "            eval_set=evaluation, eval_metric=\"auc\",\n",
    "            early_stopping_rounds=10,verbose=False)\n",
    "    \n",
    "\n",
    "    pred = clf.predict(X_valid)\n",
    "    y_score = clf.predict_proba(X_valid)[:,1]\n",
    "    accuracy = accuracy_score(y_valid, pred>0.5)\n",
    "    Roc_Auc_Score = roc_auc_score(y_valid, y_score)\n",
    "    print (\"ROC-AUC Score:\",Roc_Auc_Score)\n",
    "    print (\"SCORE:\", accuracy)\n",
    "    return {'loss': -Roc_Auc_Score, 'status': STATUS_OK }"
   ]
  },
  {
   "cell_type": "code",
   "execution_count": 58,
   "metadata": {},
   "outputs": [],
   "source": [
    "trials = Trials()"
   ]
  },
  {
   "cell_type": "code",
   "execution_count": 63,
   "metadata": {},
   "outputs": [
    {
     "name": "stdout",
     "output_type": "stream",
     "text": [
      "ROC-AUC Score:                                                                                                         \n",
      "0.732083883066287                                                                                                      \n",
      "SCORE:                                                                                                                 \n",
      "0.7621935090039679                                                                                                     \n",
      "ROC-AUC Score:                                                                                                         \n",
      "0.7323667725616017                                                                                                     \n",
      "SCORE:                                                                                                                 \n",
      "0.7621935090039679                                                                                                     \n",
      "ROC-AUC Score:                                                                                                         \n",
      "0.731915798859207                                                                                                      \n",
      "SCORE:                                                                                                                 \n",
      "0.7621935090039679                                                                                                     \n",
      "ROC-AUC Score:                                                                                                         \n",
      "0.7326184494369926                                                                                                     \n",
      "SCORE:                                                                                                                 \n",
      "0.7621935090039679                                                                                                     \n",
      "ROC-AUC Score:                                                                                                         \n",
      "0.7327338349363998                                                                                                     \n",
      "SCORE:                                                                                                                 \n",
      "0.7621935090039679                                                                                                     \n",
      "ROC-AUC Score:                                                                                                         \n",
      "0.7326432317638041                                                                                                     \n",
      "SCORE:                                                                                                                 \n",
      "0.7621935090039679                                                                                                     \n",
      "ROC-AUC Score:                                                                                                         \n",
      "0.7323618647517431                                                                                                     \n",
      "SCORE:                                                                                                                 \n",
      "0.7621935090039679                                                                                                     \n",
      "ROC-AUC Score:                                                                                                         \n",
      "0.7323776389574578                                                                                                     \n",
      "SCORE:                                                                                                                 \n",
      "0.7621935090039679                                                                                                     \n",
      "ROC-AUC Score:                                                                                                         \n",
      "0.7326232453163493                                                                                                     \n",
      "SCORE:                                                                                                                 \n",
      "0.7621935090039679                                                                                                     \n",
      "ROC-AUC Score:                                                                                                         \n",
      "0.7323577107595497                                                                                                     \n",
      "SCORE:                                                                                                                 \n",
      "0.7621935090039679                                                                                                     \n",
      "ROC-AUC Score:                                                                                                         \n",
      "0.732626983566679                                                                                                      \n",
      "SCORE:                                                                                                                 \n",
      "0.7621935090039679                                                                                                     \n",
      "ROC-AUC Score:                                                                                                         \n",
      "0.7325861757615979                                                                                                     \n",
      "SCORE:                                                                                                                 \n",
      "0.7621935090039679                                                                                                     \n",
      "ROC-AUC Score:                                                                                                         \n",
      "0.7319092098075259                                                                                                     \n",
      "SCORE:                                                                                                                 \n",
      "0.7621935090039679                                                                                                     \n",
      "ROC-AUC Score:                                                                                                         \n",
      "0.7326012772421537                                                                                                     \n",
      "SCORE:                                                                                                                 \n",
      "0.7621935090039679                                                                                                     \n",
      "ROC-AUC Score:                                                                                                         \n",
      "0.7323622153911722                                                                                                     \n",
      "SCORE:                                                                                                                 \n",
      "0.7621935090039679                                                                                                     \n",
      "ROC-AUC Score:                                                                                                         \n",
      "0.7326608254112466                                                                                                     \n",
      "SCORE:                                                                                                                 \n",
      "0.7621935090039679                                                                                                     \n",
      "ROC-AUC Score:                                                                                                         \n",
      "0.7319712124526219                                                                                                     \n",
      "SCORE:                                                                                                                 \n",
      "0.7621935090039679                                                                                                     \n"
     ]
    },
    {
     "name": "stdout",
     "output_type": "stream",
     "text": [
      "ROC-AUC Score:                                                                                                         \n",
      "0.7323449586773833                                                                                                     \n",
      "SCORE:                                                                                                                 \n",
      "0.7621935090039679                                                                                                     \n",
      "ROC-AUC Score:                                                                                                         \n",
      "0.7324583705450856                                                                                                     \n",
      "SCORE:                                                                                                                 \n",
      "0.7621935090039679                                                                                                     \n",
      "ROC-AUC Score:                                                                                                         \n",
      "0.7323596341367435                                                                                                     \n",
      "SCORE:                                                                                                                 \n",
      "0.7621935090039679                                                                                                     \n",
      "ROC-AUC Score:                                                                                                         \n",
      "0.7326099061701223                                                                                                     \n",
      "SCORE:                                                                                                                 \n",
      "0.7621935090039679                                                                                                     \n",
      "ROC-AUC Score:                                                                                                         \n",
      "0.7326099061701223                                                                                                     \n",
      "SCORE:                                                                                                                 \n",
      "0.7621935090039679                                                                                                     \n",
      "ROC-AUC Score:                                                                                                         \n",
      "0.7326631862311157                                                                                                     \n",
      "SCORE:                                                                                                                 \n",
      "0.7621935090039679                                                                                                     \n",
      "ROC-AUC Score:                                                                                                         \n",
      "0.7326101071881664                                                                                                     \n",
      "SCORE:                                                                                                                 \n",
      "0.7621935090039679                                                                                                     \n",
      "ROC-AUC Score:                                                                                                         \n",
      "0.7318831825394193                                                                                                     \n",
      "SCORE:                                                                                                                 \n",
      "0.7621935090039679                                                                                                     \n",
      "ROC-AUC Score:                                                                                                         \n",
      "0.7320907999144376                                                                                                     \n",
      "SCORE:                                                                                                                 \n",
      "0.7621935090039679                                                                                                     \n",
      "ROC-AUC Score:                                                                                                         \n",
      "0.7315135560424121                                                                                                     \n",
      "SCORE:                                                                                                                 \n",
      "0.7621935090039679                                                                                                     \n",
      "ROC-AUC Score:                                                                                                         \n",
      "0.7323428240028136                                                                                                     \n",
      "SCORE:                                                                                                                 \n",
      "0.7621935090039679                                                                                                     \n",
      "ROC-AUC Score:                                                                                                         \n",
      "0.7318781879263144                                                                                                     \n",
      "SCORE:                                                                                                                 \n",
      "0.7621935090039679                                                                                                     \n",
      "ROC-AUC Score:                                                                                                         \n",
      "0.7326674601488465                                                                                                     \n",
      "SCORE:                                                                                                                 \n",
      "0.7621935090039679                                                                                                     \n",
      "ROC-AUC Score:                                                                                                         \n",
      "0.7326152479962122                                                                                                     \n",
      "SCORE:                                                                                                                 \n",
      "0.7621935090039679                                                                                                     \n",
      "ROC-AUC Score:                                                                                                         \n",
      "0.7315583430910461                                                                                                     \n",
      "SCORE:                                                                                                                 \n",
      "0.7621935090039679                                                                                                     \n",
      "ROC-AUC Score:                                                                                                         \n",
      "0.7321559000648479                                                                                                     \n",
      "SCORE:                                                                                                                 \n",
      "0.7621935090039679                                                                                                     \n",
      "ROC-AUC Score:                                                                                                         \n",
      "0.7323815873630153                                                                                                     \n",
      "SCORE:                                                                                                                 \n",
      "0.7621935090039679                                                                                                     \n"
     ]
    },
    {
     "name": "stdout",
     "output_type": "stream",
     "text": [
      "ROC-AUC Score:                                                                                                         \n",
      "0.7331254968943329                                                                                                     \n",
      "SCORE:                                                                                                                 \n",
      "0.7621935090039679                                                                                                     \n",
      "ROC-AUC Score:                                                                                                         \n",
      "0.7331193612753988                                                                                                     \n",
      "SCORE:                                                                                                                 \n",
      "0.7621935090039679                                                                                                     \n",
      "ROC-AUC Score:                                                                                                         \n",
      "0.7331254968943329                                                                                                     \n",
      "SCORE:                                                                                                                 \n",
      "0.7621935090039679                                                                                                     \n",
      "ROC-AUC Score:                                                                                                         \n",
      "0.7324128159730108                                                                                                     \n",
      "SCORE:                                                                                                                 \n",
      "0.7621935090039679                                                                                                     \n",
      "ROC-AUC Score:                                                                                                         \n",
      "0.7315169162417614                                                                                                     \n",
      "SCORE:                                                                                                                 \n",
      "0.7621935090039679                                                                                                     \n",
      "ROC-AUC Score:                                                                                                         \n",
      "0.7315476811396779                                                                                                     \n",
      "SCORE:                                                                                                                 \n",
      "0.7621935090039679                                                                                                     \n",
      "ROC-AUC Score:                                                                                                         \n",
      "0.7326144690512916                                                                                                     \n",
      "SCORE:                                                                                                                 \n",
      "0.7621935090039679                                                                                                     \n",
      "ROC-AUC Score:                                                                                                         \n",
      "0.7326232453163493                                                                                                     \n",
      "SCORE:                                                                                                                 \n",
      "0.7621935090039679                                                                                                     \n",
      "ROC-AUC Score:                                                                                                         \n",
      "0.7323657400598302                                                                                                     \n",
      "SCORE:                                                                                                                 \n",
      "0.7621935090039679                                                                                                     \n",
      "ROC-AUC Score:                                                                                                         \n",
      "0.7323606392269636                                                                                                     \n",
      "SCORE:                                                                                                                 \n",
      "0.7621935090039679                                                                                                     \n",
      "ROC-AUC Score:                                                                                                         \n",
      "0.7326274267200942                                                                                                     \n",
      "SCORE:                                                                                                                 \n",
      "0.7621935090039679                                                                                                     \n",
      "ROC-AUC Score:                                                                                                         \n",
      "0.7319017355911626                                                                                                     \n",
      "SCORE:                                                                                                                 \n",
      "0.7621935090039679                                                                                                     \n",
      "ROC-AUC Score:                                                                                                         \n",
      "0.7318818359469538                                                                                                     \n",
      "SCORE:                                                                                                                 \n",
      "0.7621935090039679                                                                                                     \n",
      "ROC-AUC Score:                                                                                                         \n",
      "0.7326440255566483                                                                                                     \n",
      "SCORE:                                                                                                                 \n",
      "0.7621935090039679                                                                                                     \n",
      "ROC-AUC Score:                                                                                                         \n",
      "0.7327524016939188                                                                                                     \n",
      "SCORE:                                                                                                                 \n",
      "0.7621935090039679                                                                                                     \n",
      "ROC-AUC Score:                                                                                                         \n",
      "0.7323622153911722                                                                                                     \n",
      "SCORE:                                                                                                                 \n",
      "0.7621935090039679                                                                                                     \n",
      "ROC-AUC Score:                                                                                                         \n",
      "0.7326282787624852                                                                                                     \n",
      "SCORE:                                                                                                                 \n",
      "0.7621935090039679                                                                                                     \n"
     ]
    },
    {
     "name": "stdout",
     "output_type": "stream",
     "text": [
      "ROC-AUC Score:                                                                                                         \n",
      "0.7321681347539808                                                                                                     \n",
      "SCORE:                                                                                                                 \n",
      "0.7621935090039679                                                                                                     \n",
      "ROC-AUC Score:                                                                                                         \n",
      "0.7324926349844046                                                                                                     \n",
      "SCORE:                                                                                                                 \n",
      "0.7621935090039679                                                                                                     \n",
      "ROC-AUC Score:                                                                                                         \n",
      "0.7326061622090527                                                                                                     \n",
      "SCORE:                                                                                                                 \n",
      "0.7621935090039679                                                                                                     \n",
      "ROC-AUC Score:                                                                                                         \n",
      "0.7325760197817838                                                                                                     \n",
      "SCORE:                                                                                                                 \n",
      "0.7621935090039679                                                                                                     \n",
      "ROC-AUC Score:                                                                                                         \n",
      "0.7323763803103868                                                                                                     \n",
      "SCORE:                                                                                                                 \n",
      "0.7621935090039679                                                                                                     \n",
      "ROC-AUC Score:                                                                                                         \n",
      "0.7323581961724401                                                                                                     \n",
      "SCORE:                                                                                                                 \n",
      "0.7621935090039679                                                                                                     \n",
      "ROC-AUC Score:                                                                                                         \n",
      "0.7315416391768781                                                                                                     \n",
      "SCORE:                                                                                                                 \n",
      "0.7621935090039679                                                                                                     \n",
      "ROC-AUC Score:                                                                                                         \n",
      "0.7331269462801161                                                                                                     \n",
      "SCORE:                                                                                                                 \n",
      "0.7621935090039679                                                                                                     \n",
      "ROC-AUC Score:                                                                                                         \n",
      "0.731710982031029                                                                                                      \n",
      "SCORE:                                                                                                                 \n",
      "0.7621935090039679                                                                                                     \n",
      "ROC-AUC Score:                                                                                                         \n",
      "0.7323596341367435                                                                                                     \n",
      "SCORE:                                                                                                                 \n",
      "0.7621935090039679                                                                                                     \n",
      "ROC-AUC Score:                                                                                                         \n",
      "0.7317176533173645                                                                                                     \n",
      "SCORE:                                                                                                                 \n",
      "0.7621935090039679                                                                                                     \n",
      "ROC-AUC Score:                                                                                                         \n",
      "0.7321559000648479                                                                                                     \n",
      "SCORE:                                                                                                                 \n",
      "0.7621935090039679                                                                                                     \n",
      "ROC-AUC Score:                                                                                                         \n",
      "0.7326591533066077                                                                                                     \n",
      "SCORE:                                                                                                                 \n",
      "0.7621935090039679                                                                                                     \n",
      "ROC-AUC Score:                                                                                                         \n",
      "0.7323734541272688                                                                                                     \n",
      "SCORE:                                                                                                                 \n",
      "0.7621935090039679                                                                                                     \n",
      "ROC-AUC Score:                                                                                                         \n",
      "0.7331254968943329                                                                                                     \n",
      "SCORE:                                                                                                                 \n",
      "0.7621935090039679                                                                                                     \n",
      "ROC-AUC Score:                                                                                                         \n",
      "0.7326061622090527                                                                                                     \n",
      "SCORE:                                                                                                                 \n",
      "0.7621935090039679                                                                                                     \n",
      "ROC-AUC Score:                                                                                                         \n",
      "0.7327314444206832                                                                                                     \n",
      "SCORE:                                                                                                                 \n",
      "0.7621935090039679                                                                                                     \n"
     ]
    },
    {
     "name": "stdout",
     "output_type": "stream",
     "text": [
      "ROC-AUC Score:                                                                                                         \n",
      "0.7323483554254677                                                                                                     \n",
      "SCORE:                                                                                                                 \n",
      "0.7621935090039679                                                                                                     \n",
      "ROC-AUC Score:                                                                                                         \n",
      "0.7326631862311157                                                                                                     \n",
      "SCORE:                                                                                                                 \n",
      "0.7621935090039679                                                                                                     \n",
      "ROC-AUC Score:                                                                                                         \n",
      "0.7331699104605783                                                                                                     \n",
      "SCORE:                                                                                                                 \n",
      "0.7621935090039679                                                                                                     \n",
      "ROC-AUC Score:                                                                                                         \n",
      "0.7323699534437185                                                                                                     \n",
      "SCORE:                                                                                                                 \n",
      "0.7621935090039679                                                                                                     \n",
      "ROC-AUC Score:                                                                                                         \n",
      "0.7326548028649622                                                                                                     \n",
      "SCORE:                                                                                                                 \n",
      "0.7621935090039679                                                                                                     \n",
      "ROC-AUC Score:                                                                                                         \n",
      "0.7323815873630153                                                                                                     \n",
      "SCORE:                                                                                                                 \n",
      "0.7621935090039679                                                                                                     \n",
      "ROC-AUC Score:                                                                                                         \n",
      "0.7327338349363998                                                                                                     \n",
      "SCORE:                                                                                                                 \n",
      "0.7621935090039679                                                                                                     \n",
      "ROC-AUC Score:                                                                                                         \n",
      "0.7324185655459283                                                                                                     \n",
      "SCORE:                                                                                                                 \n",
      "0.7621935090039679                                                                                                     \n",
      "ROC-AUC Score:                                                                                                         \n",
      "0.7323651644172496                                                                                                     \n",
      "SCORE:                                                                                                                 \n",
      "0.7621935090039679                                                                                                     \n",
      "ROC-AUC Score:                                                                                                         \n",
      "0.7331380890757827                                                                                                     \n",
      "SCORE:                                                                                                                 \n",
      "0.7621935090039679                                                                                                     \n",
      "ROC-AUC Score:                                                                                                         \n",
      "0.7331507292274475                                                                                                     \n",
      "SCORE:                                                                                                                 \n",
      "0.7621935090039679                                                                                                     \n",
      "ROC-AUC Score:                                                                                                         \n",
      "0.732083883066287                                                                                                      \n",
      "SCORE:                                                                                                                 \n",
      "0.7621935090039679                                                                                                     \n",
      "ROC-AUC Score:                                                                                                         \n",
      "0.7323799826451072                                                                                                     \n",
      "SCORE:                                                                                                                 \n",
      "0.7621935090039679                                                                                                     \n",
      "ROC-AUC Score:                                                                                                         \n",
      "0.732387588208488                                                                                                      \n",
      "SCORE:                                                                                                                 \n",
      "0.7621935090039679                                                                                                     \n",
      "ROC-AUC Score:                                                                                                         \n",
      "0.7331287120408891                                                                                                     \n",
      "SCORE:                                                                                                                 \n",
      "0.7621935090039679                                                                                                     \n",
      "ROC-AUC Score:                                                                                                         \n",
      "0.7327333883565406                                                                                                     \n",
      "SCORE:                                                                                                                 \n",
      "0.7621935090039679                                                                                                     \n",
      "ROC-AUC Score:                                                                                                         \n",
      "0.7326235674020788                                                                                                     \n",
      "SCORE:                                                                                                                 \n",
      "0.7621935090039679                                                                                                     \n"
     ]
    },
    {
     "name": "stdout",
     "output_type": "stream",
     "text": [
      "ROC-AUC Score:                                                                                                         \n",
      "0.7328307758881214                                                                                                     \n",
      "SCORE:                                                                                                                 \n",
      "0.7621935090039679                                                                                                     \n",
      "ROC-AUC Score:                                                                                                         \n",
      "0.7326158887412273                                                                                                     \n",
      "SCORE:                                                                                                                 \n",
      "0.7621935090039679                                                                                                     \n",
      "ROC-AUC Score:                                                                                                         \n",
      "0.7326009574407201                                                                                                     \n",
      "SCORE:                                                                                                                 \n",
      "0.7621935090039679                                                                                                     \n",
      "ROC-AUC Score:                                                                                                         \n",
      "0.7323917981659325                                                                                                     \n",
      "SCORE:                                                                                                                 \n",
      "0.7621935090039679                                                                                                     \n",
      "ROC-AUC Score:                                                                                                         \n",
      "0.7325957800839391                                                                                                     \n",
      "SCORE:                                                                                                                 \n",
      "0.7621935090039679                                                                                                     \n",
      "ROC-AUC Score:                                                                                                         \n",
      "0.7324220833616986                                                                                                     \n",
      "SCORE:                                                                                                                 \n",
      "0.7621935090039679                                                                                                     \n",
      "ROC-AUC Score:                                                                                                         \n",
      "0.7320553225139664                                                                                                     \n",
      "SCORE:                                                                                                                 \n",
      "0.7621935090039679                                                                                                     \n",
      "ROC-AUC Score:                                                                                                         \n",
      "0.7323186607202057                                                                                                     \n",
      "SCORE:                                                                                                                 \n",
      "0.7621935090039679                                                                                                     \n",
      "ROC-AUC Score:                                                                                                         \n",
      "0.7331124821181315                                                                                                     \n",
      "SCORE:                                                                                                                 \n",
      "0.7621935090039679                                                                                                     \n",
      "ROC-AUC Score:                                                                                                         \n",
      "0.7323577107595497                                                                                                     \n",
      "SCORE:                                                                                                                 \n",
      "0.7621935090039679                                                                                                     \n",
      "ROC-AUC Score:                                                                                                         \n",
      "0.7320858521293999                                                                                                     \n",
      "SCORE:                                                                                                                 \n",
      "0.7621935090039679                                                                                                     \n",
      "ROC-AUC Score:                                                                                                         \n",
      "0.7323731411787231                                                                                                     \n",
      "SCORE:                                                                                                                 \n",
      "0.7621935090039679                                                                                                     \n",
      "ROC-AUC Score:                                                                                                         \n",
      "0.7324206488238391                                                                                                     \n",
      "SCORE:                                                                                                                 \n",
      "0.7621935090039679                                                                                                     \n",
      "ROC-AUC Score:                                                                                                         \n",
      "0.7326548028649622                                                                                                     \n",
      "SCORE:                                                                                                                 \n",
      "0.7621935090039679                                                                                                     \n",
      "ROC-AUC Score:                                                                                                         \n",
      "0.7331767222311149                                                                                                     \n",
      "SCORE:                                                                                                                 \n",
      "0.7621935090039679                                                                                                     \n",
      "100%|█████████████████████████████████████████████| 100/100 [27:15<00:00, 16.36s/trial, best loss: -0.7331767222311149]\n"
     ]
    }
   ],
   "source": [
    "best_hyperparams = fmin(fn = objective,\n",
    "                        space = space,\n",
    "                        algo = tpe.suggest,\n",
    "                        max_evals = 100,\n",
    "                        trials = trials)"
   ]
  },
  {
   "cell_type": "code",
   "execution_count": 64,
   "metadata": {},
   "outputs": [
    {
     "name": "stdout",
     "output_type": "stream",
     "text": [
      "{'colsample_bytree': 0.852063958365646, 'gamma': 1.8655266824443149, 'max_depth': 10.0, 'min_child_weight': 6.0, 'reg_alpha': 40.0, 'reg_lambda': 0.5732629460346312}\n"
     ]
    }
   ],
   "source": [
    "print(best_hyperparams)"
   ]
  },
  {
   "cell_type": "code",
   "execution_count": 71,
   "metadata": {},
   "outputs": [],
   "source": [
    "xgb_model=xgb.XGBClassifier(n_estimators = space['n_estimators'],colsample_bytree= 0.852063958365646, gamma= 1.8655266824443149, max_depth= 10, min_child_weight= 6.0,reg_alpha= 40.0, reg_lambda= 0.5732629460346312)"
   ]
  },
  {
   "cell_type": "code",
   "execution_count": 72,
   "metadata": {},
   "outputs": [
    {
     "data": {
      "text/plain": [
       "XGBClassifier(base_score=0.5, booster='gbtree', colsample_bylevel=1,\n",
       "              colsample_bynode=1, colsample_bytree=0.852063958365646,\n",
       "              gamma=1.8655266824443149, learning_rate=0.1, max_delta_step=0,\n",
       "              max_depth=10, min_child_weight=6.0, missing=None,\n",
       "              n_estimators=300, n_jobs=1, nthread=None,\n",
       "              objective='binary:logistic', random_state=0, reg_alpha=40.0,\n",
       "              reg_lambda=0.5732629460346312, scale_pos_weight=1, seed=None,\n",
       "              silent=None, subsample=1, verbosity=1)"
      ]
     },
     "execution_count": 72,
     "metadata": {},
     "output_type": "execute_result"
    }
   ],
   "source": [
    "xgb_model.fit(X_train,y_train)"
   ]
  },
  {
   "cell_type": "code",
   "execution_count": 73,
   "metadata": {},
   "outputs": [],
   "source": [
    "xg_pred=xgb_model.predict(X_valid)"
   ]
  },
  {
   "cell_type": "code",
   "execution_count": 74,
   "metadata": {},
   "outputs": [
    {
     "data": {
      "text/plain": [
       "0.6153026160127328"
      ]
     },
     "execution_count": 74,
     "metadata": {},
     "output_type": "execute_result"
    }
   ],
   "source": [
    "roc_auc_score(y_valid,xg_pred)"
   ]
  },
  {
   "cell_type": "code",
   "execution_count": 75,
   "metadata": {},
   "outputs": [],
   "source": [
    "submission = pd.read_csv('sample_submission_eyYijxG.csv')"
   ]
  },
  {
   "cell_type": "code",
   "execution_count": 76,
   "metadata": {},
   "outputs": [],
   "source": [
    "submission['ID']=test['ID']"
   ]
  },
  {
   "cell_type": "code",
   "execution_count": 78,
   "metadata": {},
   "outputs": [],
   "source": [
    "test1=test.drop(['ID'],axis=1)"
   ]
  },
  {
   "cell_type": "code",
   "execution_count": 79,
   "metadata": {},
   "outputs": [
    {
     "data": {
      "text/html": [
       "<div>\n",
       "<style scoped>\n",
       "    .dataframe tbody tr th:only-of-type {\n",
       "        vertical-align: middle;\n",
       "    }\n",
       "\n",
       "    .dataframe tbody tr th {\n",
       "        vertical-align: top;\n",
       "    }\n",
       "\n",
       "    .dataframe thead th {\n",
       "        text-align: right;\n",
       "    }\n",
       "</style>\n",
       "<table border=\"1\" class=\"dataframe\">\n",
       "  <thead>\n",
       "    <tr style=\"text-align: right;\">\n",
       "      <th></th>\n",
       "      <th>Age</th>\n",
       "      <th>Vintage</th>\n",
       "      <th>Avg_Account_Balance</th>\n",
       "      <th>Gender_0</th>\n",
       "      <th>Gender_1</th>\n",
       "      <th>Region_Code_0</th>\n",
       "      <th>Region_Code_1</th>\n",
       "      <th>Region_Code_2</th>\n",
       "      <th>Region_Code_3</th>\n",
       "      <th>Region_Code_4</th>\n",
       "      <th>...</th>\n",
       "      <th>Occupation_2</th>\n",
       "      <th>Occupation_3</th>\n",
       "      <th>Channel_Code_0</th>\n",
       "      <th>Channel_Code_1</th>\n",
       "      <th>Channel_Code_2</th>\n",
       "      <th>Channel_Code_3</th>\n",
       "      <th>Credit_Product_0</th>\n",
       "      <th>Credit_Product_1</th>\n",
       "      <th>Is_Active_0</th>\n",
       "      <th>Is_Active_1</th>\n",
       "    </tr>\n",
       "  </thead>\n",
       "  <tbody>\n",
       "    <tr>\n",
       "      <th>0</th>\n",
       "      <td>-0.999878</td>\n",
       "      <td>-0.676804</td>\n",
       "      <td>0.072805</td>\n",
       "      <td>0</td>\n",
       "      <td>1</td>\n",
       "      <td>0</td>\n",
       "      <td>0</td>\n",
       "      <td>0</td>\n",
       "      <td>0</td>\n",
       "      <td>1</td>\n",
       "      <td>...</td>\n",
       "      <td>0</td>\n",
       "      <td>0</td>\n",
       "      <td>1</td>\n",
       "      <td>0</td>\n",
       "      <td>0</td>\n",
       "      <td>0</td>\n",
       "      <td>0</td>\n",
       "      <td>1</td>\n",
       "      <td>1</td>\n",
       "      <td>0</td>\n",
       "    </tr>\n",
       "    <tr>\n",
       "      <th>1</th>\n",
       "      <td>-0.058563</td>\n",
       "      <td>0.066841</td>\n",
       "      <td>0.091333</td>\n",
       "      <td>0</td>\n",
       "      <td>1</td>\n",
       "      <td>0</td>\n",
       "      <td>0</td>\n",
       "      <td>0</td>\n",
       "      <td>0</td>\n",
       "      <td>0</td>\n",
       "      <td>...</td>\n",
       "      <td>0</td>\n",
       "      <td>0</td>\n",
       "      <td>0</td>\n",
       "      <td>1</td>\n",
       "      <td>0</td>\n",
       "      <td>0</td>\n",
       "      <td>1</td>\n",
       "      <td>0</td>\n",
       "      <td>1</td>\n",
       "      <td>0</td>\n",
       "    </tr>\n",
       "    <tr>\n",
       "      <th>2</th>\n",
       "      <td>-0.865404</td>\n",
       "      <td>-1.017641</td>\n",
       "      <td>0.019558</td>\n",
       "      <td>0</td>\n",
       "      <td>1</td>\n",
       "      <td>0</td>\n",
       "      <td>0</td>\n",
       "      <td>0</td>\n",
       "      <td>0</td>\n",
       "      <td>0</td>\n",
       "      <td>...</td>\n",
       "      <td>1</td>\n",
       "      <td>0</td>\n",
       "      <td>1</td>\n",
       "      <td>0</td>\n",
       "      <td>0</td>\n",
       "      <td>0</td>\n",
       "      <td>1</td>\n",
       "      <td>0</td>\n",
       "      <td>1</td>\n",
       "      <td>0</td>\n",
       "    </tr>\n",
       "    <tr>\n",
       "      <th>3</th>\n",
       "      <td>-0.999878</td>\n",
       "      <td>-0.428922</td>\n",
       "      <td>0.085520</td>\n",
       "      <td>0</td>\n",
       "      <td>1</td>\n",
       "      <td>0</td>\n",
       "      <td>0</td>\n",
       "      <td>0</td>\n",
       "      <td>0</td>\n",
       "      <td>0</td>\n",
       "      <td>...</td>\n",
       "      <td>0</td>\n",
       "      <td>0</td>\n",
       "      <td>1</td>\n",
       "      <td>0</td>\n",
       "      <td>0</td>\n",
       "      <td>0</td>\n",
       "      <td>1</td>\n",
       "      <td>0</td>\n",
       "      <td>1</td>\n",
       "      <td>0</td>\n",
       "    </tr>\n",
       "    <tr>\n",
       "      <th>4</th>\n",
       "      <td>-0.999878</td>\n",
       "      <td>-0.862715</td>\n",
       "      <td>0.064179</td>\n",
       "      <td>1</td>\n",
       "      <td>0</td>\n",
       "      <td>0</td>\n",
       "      <td>0</td>\n",
       "      <td>0</td>\n",
       "      <td>0</td>\n",
       "      <td>0</td>\n",
       "      <td>...</td>\n",
       "      <td>0</td>\n",
       "      <td>0</td>\n",
       "      <td>1</td>\n",
       "      <td>0</td>\n",
       "      <td>0</td>\n",
       "      <td>0</td>\n",
       "      <td>1</td>\n",
       "      <td>0</td>\n",
       "      <td>1</td>\n",
       "      <td>0</td>\n",
       "    </tr>\n",
       "  </tbody>\n",
       "</table>\n",
       "<p>5 rows × 52 columns</p>\n",
       "</div>"
      ],
      "text/plain": [
       "        Age   Vintage  Avg_Account_Balance  Gender_0  Gender_1  Region_Code_0  \\\n",
       "0 -0.999878 -0.676804             0.072805         0         1              0   \n",
       "1 -0.058563  0.066841             0.091333         0         1              0   \n",
       "2 -0.865404 -1.017641             0.019558         0         1              0   \n",
       "3 -0.999878 -0.428922             0.085520         0         1              0   \n",
       "4 -0.999878 -0.862715             0.064179         1         0              0   \n",
       "\n",
       "   Region_Code_1  Region_Code_2  Region_Code_3  Region_Code_4  ...  \\\n",
       "0              0              0              0              1  ...   \n",
       "1              0              0              0              0  ...   \n",
       "2              0              0              0              0  ...   \n",
       "3              0              0              0              0  ...   \n",
       "4              0              0              0              0  ...   \n",
       "\n",
       "   Occupation_2  Occupation_3  Channel_Code_0  Channel_Code_1  Channel_Code_2  \\\n",
       "0             0             0               1               0               0   \n",
       "1             0             0               0               1               0   \n",
       "2             1             0               1               0               0   \n",
       "3             0             0               1               0               0   \n",
       "4             0             0               1               0               0   \n",
       "\n",
       "   Channel_Code_3  Credit_Product_0  Credit_Product_1  Is_Active_0  \\\n",
       "0               0                 0                 1            1   \n",
       "1               0                 1                 0            1   \n",
       "2               0                 1                 0            1   \n",
       "3               0                 1                 0            1   \n",
       "4               0                 1                 0            1   \n",
       "\n",
       "   Is_Active_1  \n",
       "0            0  \n",
       "1            0  \n",
       "2            0  \n",
       "3            0  \n",
       "4            0  \n",
       "\n",
       "[5 rows x 52 columns]"
      ]
     },
     "execution_count": 79,
     "metadata": {},
     "output_type": "execute_result"
    }
   ],
   "source": [
    "test1.head()"
   ]
  },
  {
   "cell_type": "code",
   "execution_count": 80,
   "metadata": {},
   "outputs": [],
   "source": [
    "final_predictions = LR.predict(test1)"
   ]
  },
  {
   "cell_type": "code",
   "execution_count": 94,
   "metadata": {},
   "outputs": [],
   "source": [
    "submission['Is_Lead'] = final_predictions"
   ]
  },
  {
   "cell_type": "code",
   "execution_count": 95,
   "metadata": {},
   "outputs": [],
   "source": [
    "submission.to_csv('my_xgb.csv', index=False)"
   ]
  },
  {
   "cell_type": "code",
   "execution_count": 82,
   "metadata": {},
   "outputs": [],
   "source": [
    "SEED = 1970"
   ]
  },
  {
   "cell_type": "code",
   "execution_count": 83,
   "metadata": {},
   "outputs": [
    {
     "name": "stdout",
     "output_type": "stream",
     "text": [
      "[0]\tvalidation_0-auc:0.725219\n",
      "Will train until validation_0-auc hasn't improved in 50 rounds.\n",
      "Stopping. Best iteration:\n",
      "[75]\tvalidation_0-auc:0.789243\n",
      "\n"
     ]
    },
    {
     "data": {
      "text/plain": [
       "XGBClassifier(base_score=0.5, booster='gbtree', colsample_bylevel=1,\n",
       "              colsample_bynode=1, colsample_bytree=0.5, eval_metric='auc',\n",
       "              gamma=0.3, learning_rate=0.15, max_delta_step=0, max_depth=8,\n",
       "              min_child_weight=1, missing=None, n_estimators=30000, n_jobs=1,\n",
       "              nthread=None, objective='binary:logistic', random_state=1970,\n",
       "              reg_alpha=1.2, reg_lambda=1.2, scale_pos_weight=1, seed=None,\n",
       "              silent=None, subsample=1, verbosity=1)"
      ]
     },
     "execution_count": 83,
     "metadata": {},
     "output_type": "execute_result"
    }
   ],
   "source": [
    "XGB_model_l = xgb.XGBClassifier(random_state = SEED, max_depth = 8, \n",
    "                            n_estimators = 30000, \n",
    "                            reg_lambda = 1.2, reg_alpha = 1.2, \n",
    "                            min_child_weight = 1, \n",
    "                            objective = 'binary:logistic',\n",
    "                            learning_rate = 0.15, gamma = 0.3, colsample_bytree = 0.5, eval_metric = 'auc')\n",
    "\n",
    "XGB_model_l.fit(X_train, y_train,\n",
    "                eval_set = [(X_valid, y_valid)],\n",
    "                early_stopping_rounds=50,verbose = 1000)"
   ]
  },
  {
   "cell_type": "code",
   "execution_count": 84,
   "metadata": {},
   "outputs": [],
   "source": [
    "XGB_preds_l = XGB_model_l.predict_proba(X_valid)"
   ]
  },
  {
   "cell_type": "code",
   "execution_count": 85,
   "metadata": {},
   "outputs": [],
   "source": [
    "XGB_score_l = roc_auc_score(y_valid, XGB_preds_l[:,1])"
   ]
  },
  {
   "cell_type": "code",
   "execution_count": 86,
   "metadata": {},
   "outputs": [],
   "source": [
    "XGB_class_l = XGB_model_l.predict(X_valid)"
   ]
  },
  {
   "cell_type": "code",
   "execution_count": 90,
   "metadata": {},
   "outputs": [],
   "source": [
    "import sklearn"
   ]
  },
  {
   "cell_type": "code",
   "execution_count": 91,
   "metadata": {},
   "outputs": [],
   "source": [
    "def plot_ROC(fpr, tpr, m_name):\n",
    "    roc_auc = sklearn.metrics.auc(fpr, tpr)\n",
    "    plt.figure(figsize=(6, 6))\n",
    "    lw = 2\n",
    "    plt.plot(fpr, tpr, color='darkorange',\n",
    "             lw=lw, label='ROC curve (area = %0.2f)' % roc_auc, alpha=0.5)\n",
    "    \n",
    "    plt.plot([0, 1], [0, 1], color='navy', lw=lw, linestyle='--', alpha=0.5)\n",
    "    \n",
    "    plt.xlim([0.0, 1.0])\n",
    "    plt.ylim([0.0, 1.05])\n",
    "    plt.xticks(fontsize=16)\n",
    "    plt.yticks(fontsize=16)\n",
    "    plt.grid(True)\n",
    "    plt.xlabel('False Positive Rate', fontsize=16)\n",
    "    plt.ylabel('True Positive Rate', fontsize=16)\n",
    "    plt.title('Receiver operating characteristic for %s'%m_name, fontsize=20)\n",
    "    plt.legend(loc=\"lower right\", fontsize=16)\n",
    "    plt.show()"
   ]
  },
  {
   "cell_type": "code",
   "execution_count": 92,
   "metadata": {},
   "outputs": [
    {
     "data": {
      "image/png": "[encoded data removed]",
      "text/plain": [
       "<Figure size 432x432 with 1 Axes>"
      ]
     },
     "metadata": {},
     "output_type": "display_data"
    },
    {
     "name": "stdout",
     "output_type": "stream",
     "text": [
      "ROC AUC score for XGBoost model with over-sampling + 2 new features: 0.7892\n",
      "F1 score: 0.3886\n"
     ]
    },
    {
     "ename": "NameError",
     "evalue": "name 'skplt' is not defined",
     "output_type": "error",
     "traceback": [
      "\u001b[1;31m---------------------------------------------------------------------------\u001b[0m",
      "\u001b[1;31mNameError\u001b[0m                                 Traceback (most recent call last)",
      "\u001b[1;32m<ipython-input-92-d3aac4eb8349>\u001b[0m in \u001b[0;36m<module>\u001b[1;34m\u001b[0m\n\u001b[0;32m      4\u001b[0m \u001b[0mprint\u001b[0m\u001b[1;33m(\u001b[0m\u001b[1;34m'ROC AUC score for XGBoost model with over-sampling + 2 new features: %.4f'\u001b[0m\u001b[1;33m%\u001b[0m\u001b[0mXGB_score_l\u001b[0m\u001b[1;33m)\u001b[0m\u001b[1;33m\u001b[0m\u001b[1;33m\u001b[0m\u001b[0m\n\u001b[0;32m      5\u001b[0m \u001b[0mprint\u001b[0m\u001b[1;33m(\u001b[0m\u001b[1;34m'F1 score: %0.4f'\u001b[0m\u001b[1;33m%\u001b[0m\u001b[0mf1_score\u001b[0m\u001b[1;33m(\u001b[0m\u001b[0my_valid\u001b[0m\u001b[1;33m,\u001b[0m \u001b[0mXGB_class_l\u001b[0m\u001b[1;33m)\u001b[0m\u001b[1;33m)\u001b[0m\u001b[1;33m\u001b[0m\u001b[1;33m\u001b[0m\u001b[0m\n\u001b[1;32m----> 6\u001b[1;33m skplt.metrics.plot_confusion_matrix(y_valid, XGB_class_l,\n\u001b[0m\u001b[0;32m      7\u001b[0m         figsize=(8,8))\n\u001b[0;32m      8\u001b[0m \u001b[1;33m\u001b[0m\u001b[0m\n",
      "\u001b[1;31mNameError\u001b[0m: name 'skplt' is not defined"
     ]
    }
   ],
   "source": [
    "(fpr, tpr, thresholds) = roc_curve(y_valid, XGB_preds_l[:,1])\n",
    "plot_ROC(fpr, tpr,'XGBoost')\n",
    "\n",
    "print('ROC AUC score for XGBoost model with over-sampling + 2 new features: %.4f'%XGB_score_l)\n",
    "print('F1 score: %0.4f'%f1_score(y_valid, XGB_class_l))\n",
    "skplt.metrics.plot_confusion_matrix(y_valid, XGB_class_l,\n",
    "        figsize=(8,8))\n",
    "\n",
    "xgb.plot_importance(XGB_model_l)"
   ]
  },
  {
   "cell_type": "code",
   "execution_count": 93,
   "metadata": {},
   "outputs": [],
   "source": [
    "sub=XGB_model_l.predict(test1)"
   ]
  },
  {
   "cell_type": "code",
   "execution_count": 96,
   "metadata": {},
   "outputs": [],
   "source": [
    "submission['Is_Lead'] = sub"
   ]
  },
  {
   "cell_type": "code",
   "execution_count": 97,
   "metadata": {},
   "outputs": [],
   "source": [
    "submission.to_csv('my_xgb2.csv', index=False)"
   ]
  },
  {
   "cell_type": "code",
   "execution_count": null,
   "metadata": {},
   "outputs": [],
   "source": []
  }
 ],
 "metadata": {
  "kernelspec": {
   "display_name": "Python 3",
   "language": "python",
   "name": "python3"
  },
  "language_info": {
   "codemirror_mode": {
    "name": "ipython",
    "version": 3
   },
   "file_extension": ".py",
   "mimetype": "text/x-python",
   "name": "python",
   "nbconvert_exporter": "python",
   "pygments_lexer": "ipython3",
   "version": "3.7.6"
  }
 },
 "nbformat": 4,
 "nbformat_minor": 4
}
